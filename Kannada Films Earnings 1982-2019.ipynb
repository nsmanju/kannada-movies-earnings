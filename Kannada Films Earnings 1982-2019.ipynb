{
 "cells": [
  {
   "cell_type": "code",
   "execution_count": 6,
   "id": "a84e80af",
   "metadata": {},
   "outputs": [
    {
     "data": {
      "application/vnd.plotly.v1+json": {
       "config": {
        "plotlyServerURL": "https://plot.ly"
       },
       "data": [
        {
         "hovertemplate": "theta=%{theta}<br>r=%{r}<extra></extra>",
         "legendgroup": "ಬಬ್ರುವಾಹನ, ೧೯೭೭",
         "marker": {
          "color": "#f0f921",
          "pattern": {
           "shape": ""
          }
         },
         "name": "ಬಬ್ರುವಾಹನ, ೧೯೭೭",
         "r": [
          3
         ],
         "showlegend": true,
         "subplot": "polar",
         "theta": [
          "ಬಬ್ರುವಾಹನ, ೧೯೭೭"
         ],
         "type": "barpolar"
        },
        {
         "hovertemplate": "theta=%{theta}<br>r=%{r}<extra></extra>",
         "legendgroup": "ಶಂಕರ್ ಗುರು, ೧೯೭೮",
         "marker": {
          "color": "#fdca26",
          "pattern": {
           "shape": ""
          }
         },
         "name": "ಶಂಕರ್ ಗುರು, ೧೯೭೮",
         "r": [
          3.25
         ],
         "showlegend": true,
         "subplot": "polar",
         "theta": [
          "ಶಂಕರ್ ಗುರು, ೧೯೭೮"
         ],
         "type": "barpolar"
        },
        {
         "hovertemplate": "theta=%{theta}<br>r=%{r}<extra></extra>",
         "legendgroup": "ಕವಿರತ್ನ ಕಾಳಿದಾಸ, ೧೯೮೩",
         "marker": {
          "color": "#fb9f3a",
          "pattern": {
           "shape": ""
          }
         },
         "name": "ಕವಿರತ್ನ ಕಾಳಿದಾಸ, ೧೯೮೩",
         "r": [
          4.5
         ],
         "showlegend": true,
         "subplot": "polar",
         "theta": [
          "ಕವಿರತ್ನ ಕಾಳಿದಾಸ, ೧೯೮೩"
         ],
         "type": "barpolar"
        },
        {
         "hovertemplate": "theta=%{theta}<br>r=%{r}<extra></extra>",
         "legendgroup": "ಬಂಧನ, ೧೯೮೪",
         "marker": {
          "color": "#ed7953",
          "pattern": {
           "shape": ""
          }
         },
         "name": "ಬಂಧನ, ೧೯೮೪",
         "r": [
          4.5
         ],
         "showlegend": true,
         "subplot": "polar",
         "theta": [
          "ಬಂಧನ, ೧೯೮೪"
         ],
         "type": "barpolar"
        },
        {
         "hovertemplate": "theta=%{theta}<br>r=%{r}<extra></extra>",
         "legendgroup": "ಪ್ರೇಮ ಲೋಕ, ೧೯೮೭",
         "marker": {
          "color": "#d8576b",
          "pattern": {
           "shape": ""
          }
         },
         "name": "ಪ್ರೇಮ ಲೋಕ, ೧೯೮೭",
         "r": [
          5
         ],
         "showlegend": true,
         "subplot": "polar",
         "theta": [
          "ಪ್ರೇಮ ಲೋಕ, ೧೯೮೭"
         ],
         "type": "barpolar"
        },
        {
         "hovertemplate": "theta=%{theta}<br>r=%{r}<extra></extra>",
         "legendgroup": "ನಂಜುಂಡಿ ಕಲ್ಯಾಣ, ೧೯೮೯",
         "marker": {
          "color": "#bd3786",
          "pattern": {
           "shape": ""
          }
         },
         "name": "ನಂಜುಂಡಿ ಕಲ್ಯಾಣ, ೧೯೮೯",
         "r": [
          6
         ],
         "showlegend": true,
         "subplot": "polar",
         "theta": [
          "ನಂಜುಂಡಿ ಕಲ್ಯಾಣ, ೧೯೮೯"
         ],
         "type": "barpolar"
        },
        {
         "hovertemplate": "theta=%{theta}<br>r=%{r}<extra></extra>",
         "legendgroup": "ಓಂ, ೧೯೯೫",
         "marker": {
          "color": "#9c179e",
          "pattern": {
           "shape": ""
          }
         },
         "name": "ಓಂ, ೧೯೯೫",
         "r": [
          10
         ],
         "showlegend": true,
         "subplot": "polar",
         "theta": [
          "ಓಂ, ೧೯೯೫"
         ],
         "type": "barpolar"
        },
        {
         "hovertemplate": "theta=%{theta}<br>r=%{r}<extra></extra>",
         "legendgroup": "ಜನುಮದ ಜೋಡಿ,೧೯೯೬",
         "marker": {
          "color": "#7201a8",
          "pattern": {
           "shape": ""
          }
         },
         "name": "ಜನುಮದ ಜೋಡಿ,೧೯೯೬",
         "r": [
          11
         ],
         "showlegend": true,
         "subplot": "polar",
         "theta": [
          "ಜನುಮದ ಜೋಡಿ,೧೯೯೬"
         ],
         "type": "barpolar"
        },
        {
         "hovertemplate": "theta=%{theta}<br>r=%{r}<extra></extra>",
         "legendgroup": "ಸರ್ಕಲ್ ಇನ್ಸ್ಪೆಕ್ಟರ್, ೧೯೯೯",
         "marker": {
          "color": "#46039f",
          "pattern": {
           "shape": ""
          }
         },
         "name": "ಸರ್ಕಲ್ ಇನ್ಸ್ಪೆಕ್ಟರ್, ೧೯೯೯",
         "r": [
          13
         ],
         "showlegend": true,
         "subplot": "polar",
         "theta": [
          "ಸರ್ಕಲ್ ಇನ್ಸ್ಪೆಕ್ಟರ್, ೧೯೯೯"
         ],
         "type": "barpolar"
        },
        {
         "hovertemplate": "theta=%{theta}<br>r=%{r}<extra></extra>",
         "legendgroup": "ಯಜಮಾನ, ೨೦೦೦",
         "marker": {
          "color": "#0d0887",
          "pattern": {
           "shape": ""
          }
         },
         "name": "ಯಜಮಾನ, ೨೦೦೦",
         "r": [
          20
         ],
         "showlegend": true,
         "subplot": "polar",
         "theta": [
          "ಯಜಮಾನ, ೨೦೦೦"
         ],
         "type": "barpolar"
        },
        {
         "hovertemplate": "theta=%{theta}<br>r=%{r}<extra></extra>",
         "legendgroup": "ಆಪ್ತ ಮಿತ್ರ , ೨೦೦೩",
         "marker": {
          "color": "#f0f921",
          "pattern": {
           "shape": ""
          }
         },
         "name": "ಆಪ್ತ ಮಿತ್ರ , ೨೦೦೩",
         "r": [
          25
         ],
         "showlegend": true,
         "subplot": "polar",
         "theta": [
          "ಆಪ್ತ ಮಿತ್ರ , ೨೦೦೩"
         ],
         "type": "barpolar"
        },
        {
         "hovertemplate": "theta=%{theta}<br>r=%{r}<extra></extra>",
         "legendgroup": "ಜೋಗಿ, ೨೦೦೫",
         "marker": {
          "color": "#fdca26",
          "pattern": {
           "shape": ""
          }
         },
         "name": "ಜೋಗಿ, ೨೦೦೫",
         "r": [
          35
         ],
         "showlegend": true,
         "subplot": "polar",
         "theta": [
          "ಜೋಗಿ, ೨೦೦೫"
         ],
         "type": "barpolar"
        },
        {
         "hovertemplate": "theta=%{theta}<br>r=%{r}<extra></extra>",
         "legendgroup": "ಮುಂಗಾರು ಮಳೆ, ೨೦೦೬",
         "marker": {
          "color": "#fb9f3a",
          "pattern": {
           "shape": ""
          }
         },
         "name": "ಮುಂಗಾರು ಮಳೆ, ೨೦೦೬",
         "r": [
          60
         ],
         "showlegend": true,
         "subplot": "polar",
         "theta": [
          "ಮುಂಗಾರು ಮಳೆ, ೨೦೦೬"
         ],
         "type": "barpolar"
        },
        {
         "hovertemplate": "theta=%{theta}<br>r=%{r}<extra></extra>",
         "legendgroup": "ಮಿಸ್ಟರ್ ಅಂಡ್ ಮಿಸ್ಸೂಸ್ ರಾಮಾಚಾರಿ, ೨೦೧೪",
         "marker": {
          "color": "#ed7953",
          "pattern": {
           "shape": ""
          }
         },
         "name": "ಮಿಸ್ಟರ್ ಅಂಡ್ ಮಿಸ್ಸೂಸ್ ರಾಮಾಚಾರಿ, ೨೦೧೪",
         "r": [
          50
         ],
         "showlegend": true,
         "subplot": "polar",
         "theta": [
          "ಮಿಸ್ಟರ್ ಅಂಡ್ ಮಿಸ್ಸೂಸ್ ರಾಮಾಚಾರಿ, ೨೦೧೪"
         ],
         "type": "barpolar"
        },
        {
         "hovertemplate": "theta=%{theta}<br>r=%{r}<extra></extra>",
         "legendgroup": "ಕಿರಿಕ್ ಪಾರ್ಟಿ, ೨೦೧೬",
         "marker": {
          "color": "#d8576b",
          "pattern": {
           "shape": ""
          }
         },
         "name": "ಕಿರಿಕ್ ಪಾರ್ಟಿ, ೨೦೧೬",
         "r": [
          50
         ],
         "showlegend": true,
         "subplot": "polar",
         "theta": [
          "ಕಿರಿಕ್ ಪಾರ್ಟಿ, ೨೦೧೬"
         ],
         "type": "barpolar"
        },
        {
         "hovertemplate": "theta=%{theta}<br>r=%{r}<extra></extra>",
         "legendgroup": "ಸಂಗೊಳ್ಳಿ ರಾಯಣ್ಣ, ೨೦೧೨",
         "marker": {
          "color": "#bd3786",
          "pattern": {
           "shape": ""
          }
         },
         "name": "ಸಂಗೊಳ್ಳಿ ರಾಯಣ್ಣ, ೨೦೧೨",
         "r": [
          40
         ],
         "showlegend": true,
         "subplot": "polar",
         "theta": [
          "ಸಂಗೊಳ್ಳಿ ರಾಯಣ್ಣ, ೨೦೧೨"
         ],
         "type": "barpolar"
        },
        {
         "hovertemplate": "theta=%{theta}<br>r=%{r}<extra></extra>",
         "legendgroup": "ರಾಜಕುಮಾರ, ೨೦೧೭",
         "marker": {
          "color": "#9c179e",
          "pattern": {
           "shape": ""
          }
         },
         "name": "ರಾಜಕುಮಾರ, ೨೦೧೭",
         "r": [
          75
         ],
         "showlegend": true,
         "subplot": "polar",
         "theta": [
          "ರಾಜಕುಮಾರ, ೨೦೧೭"
         ],
         "type": "barpolar"
        },
        {
         "hovertemplate": "theta=%{theta}<br>r=%{r}<extra></extra>",
         "legendgroup": "ಕೆಜಿಫ್ ೧, ೨೦೧೯",
         "marker": {
          "color": "#7201a8",
          "pattern": {
           "shape": ""
          }
         },
         "name": "ಕೆಜಿಫ್ ೧, ೨೦೧೯",
         "r": [
          133
         ],
         "showlegend": true,
         "subplot": "polar",
         "theta": [
          "ಕೆಜಿಫ್ ೧, ೨೦೧೯"
         ],
         "type": "barpolar"
        }
       ],
       "layout": {
        "barmode": "relative",
        "legend": {
         "title": {
          "text": "theta"
         },
         "tracegroupgap": 0
        },
        "polar": {
         "angularaxis": {
          "categoryarray": [
           "ಬಬ್ರುವಾಹನ, ೧೯೭೭",
           "ಶಂಕರ್ ಗುರು, ೧೯೭೮",
           "ಕವಿರತ್ನ ಕಾಳಿದಾಸ, ೧೯೮೩",
           "ಬಂಧನ, ೧೯೮೪",
           "ಪ್ರೇಮ ಲೋಕ, ೧೯೮೭",
           "ನಂಜುಂಡಿ ಕಲ್ಯಾಣ, ೧೯೮೯",
           "ಓಂ, ೧೯೯೫",
           "ಜನುಮದ ಜೋಡಿ,೧೯೯೬",
           "ಸರ್ಕಲ್ ಇನ್ಸ್ಪೆಕ್ಟರ್, ೧೯೯೯",
           "ಯಜಮಾನ, ೨೦೦೦",
           "ಆಪ್ತ ಮಿತ್ರ , ೨೦೦೩",
           "ಜೋಗಿ, ೨೦೦೫",
           "ಮುಂಗಾರು ಮಳೆ, ೨೦೦೬",
           "ಮಿಸ್ಟರ್ ಅಂಡ್ ಮಿಸ್ಸೂಸ್ ರಾಮಾಚಾರಿ, ೨೦೧೪",
           "ಕಿರಿಕ್ ಪಾರ್ಟಿ, ೨೦೧೬",
           "ಸಂಗೊಳ್ಳಿ ರಾಯಣ್ಣ, ೨೦೧೨",
           "ರಾಜಕುಮಾರ, ೨೦೧೭",
           "ಕೆಜಿಫ್ ೧, ೨೦೧೯"
          ],
          "categoryorder": "array",
          "direction": "clockwise",
          "rotation": 90
         },
         "domain": {
          "x": [
           0,
           1
          ],
          "y": [
           0,
           1
          ]
         },
         "radialaxis": {
          "type": "log"
         }
        },
        "template": {
         "data": {
          "bar": [
           {
            "error_x": {
             "color": "#2a3f5f"
            },
            "error_y": {
             "color": "#2a3f5f"
            },
            "marker": {
             "line": {
              "color": "#E5ECF6",
              "width": 0.5
             },
             "pattern": {
              "fillmode": "overlay",
              "size": 10,
              "solidity": 0.2
             }
            },
            "type": "bar"
           }
          ],
          "barpolar": [
           {
            "marker": {
             "line": {
              "color": "#E5ECF6",
              "width": 0.5
             },
             "pattern": {
              "fillmode": "overlay",
              "size": 10,
              "solidity": 0.2
             }
            },
            "type": "barpolar"
           }
          ],
          "carpet": [
           {
            "aaxis": {
             "endlinecolor": "#2a3f5f",
             "gridcolor": "white",
             "linecolor": "white",
             "minorgridcolor": "white",
             "startlinecolor": "#2a3f5f"
            },
            "baxis": {
             "endlinecolor": "#2a3f5f",
             "gridcolor": "white",
             "linecolor": "white",
             "minorgridcolor": "white",
             "startlinecolor": "#2a3f5f"
            },
            "type": "carpet"
           }
          ],
          "choropleth": [
           {
            "colorbar": {
             "outlinewidth": 0,
             "ticks": ""
            },
            "type": "choropleth"
           }
          ],
          "contour": [
           {
            "colorbar": {
             "outlinewidth": 0,
             "ticks": ""
            },
            "colorscale": [
             [
              0,
              "#0d0887"
             ],
             [
              0.1111111111111111,
              "#46039f"
             ],
             [
              0.2222222222222222,
              "#7201a8"
             ],
             [
              0.3333333333333333,
              "#9c179e"
             ],
             [
              0.4444444444444444,
              "#bd3786"
             ],
             [
              0.5555555555555556,
              "#d8576b"
             ],
             [
              0.6666666666666666,
              "#ed7953"
             ],
             [
              0.7777777777777778,
              "#fb9f3a"
             ],
             [
              0.8888888888888888,
              "#fdca26"
             ],
             [
              1,
              "#f0f921"
             ]
            ],
            "type": "contour"
           }
          ],
          "contourcarpet": [
           {
            "colorbar": {
             "outlinewidth": 0,
             "ticks": ""
            },
            "type": "contourcarpet"
           }
          ],
          "heatmap": [
           {
            "colorbar": {
             "outlinewidth": 0,
             "ticks": ""
            },
            "colorscale": [
             [
              0,
              "#0d0887"
             ],
             [
              0.1111111111111111,
              "#46039f"
             ],
             [
              0.2222222222222222,
              "#7201a8"
             ],
             [
              0.3333333333333333,
              "#9c179e"
             ],
             [
              0.4444444444444444,
              "#bd3786"
             ],
             [
              0.5555555555555556,
              "#d8576b"
             ],
             [
              0.6666666666666666,
              "#ed7953"
             ],
             [
              0.7777777777777778,
              "#fb9f3a"
             ],
             [
              0.8888888888888888,
              "#fdca26"
             ],
             [
              1,
              "#f0f921"
             ]
            ],
            "type": "heatmap"
           }
          ],
          "heatmapgl": [
           {
            "colorbar": {
             "outlinewidth": 0,
             "ticks": ""
            },
            "colorscale": [
             [
              0,
              "#0d0887"
             ],
             [
              0.1111111111111111,
              "#46039f"
             ],
             [
              0.2222222222222222,
              "#7201a8"
             ],
             [
              0.3333333333333333,
              "#9c179e"
             ],
             [
              0.4444444444444444,
              "#bd3786"
             ],
             [
              0.5555555555555556,
              "#d8576b"
             ],
             [
              0.6666666666666666,
              "#ed7953"
             ],
             [
              0.7777777777777778,
              "#fb9f3a"
             ],
             [
              0.8888888888888888,
              "#fdca26"
             ],
             [
              1,
              "#f0f921"
             ]
            ],
            "type": "heatmapgl"
           }
          ],
          "histogram": [
           {
            "marker": {
             "pattern": {
              "fillmode": "overlay",
              "size": 10,
              "solidity": 0.2
             }
            },
            "type": "histogram"
           }
          ],
          "histogram2d": [
           {
            "colorbar": {
             "outlinewidth": 0,
             "ticks": ""
            },
            "colorscale": [
             [
              0,
              "#0d0887"
             ],
             [
              0.1111111111111111,
              "#46039f"
             ],
             [
              0.2222222222222222,
              "#7201a8"
             ],
             [
              0.3333333333333333,
              "#9c179e"
             ],
             [
              0.4444444444444444,
              "#bd3786"
             ],
             [
              0.5555555555555556,
              "#d8576b"
             ],
             [
              0.6666666666666666,
              "#ed7953"
             ],
             [
              0.7777777777777778,
              "#fb9f3a"
             ],
             [
              0.8888888888888888,
              "#fdca26"
             ],
             [
              1,
              "#f0f921"
             ]
            ],
            "type": "histogram2d"
           }
          ],
          "histogram2dcontour": [
           {
            "colorbar": {
             "outlinewidth": 0,
             "ticks": ""
            },
            "colorscale": [
             [
              0,
              "#0d0887"
             ],
             [
              0.1111111111111111,
              "#46039f"
             ],
             [
              0.2222222222222222,
              "#7201a8"
             ],
             [
              0.3333333333333333,
              "#9c179e"
             ],
             [
              0.4444444444444444,
              "#bd3786"
             ],
             [
              0.5555555555555556,
              "#d8576b"
             ],
             [
              0.6666666666666666,
              "#ed7953"
             ],
             [
              0.7777777777777778,
              "#fb9f3a"
             ],
             [
              0.8888888888888888,
              "#fdca26"
             ],
             [
              1,
              "#f0f921"
             ]
            ],
            "type": "histogram2dcontour"
           }
          ],
          "mesh3d": [
           {
            "colorbar": {
             "outlinewidth": 0,
             "ticks": ""
            },
            "type": "mesh3d"
           }
          ],
          "parcoords": [
           {
            "line": {
             "colorbar": {
              "outlinewidth": 0,
              "ticks": ""
             }
            },
            "type": "parcoords"
           }
          ],
          "pie": [
           {
            "automargin": true,
            "type": "pie"
           }
          ],
          "scatter": [
           {
            "fillpattern": {
             "fillmode": "overlay",
             "size": 10,
             "solidity": 0.2
            },
            "type": "scatter"
           }
          ],
          "scatter3d": [
           {
            "line": {
             "colorbar": {
              "outlinewidth": 0,
              "ticks": ""
             }
            },
            "marker": {
             "colorbar": {
              "outlinewidth": 0,
              "ticks": ""
             }
            },
            "type": "scatter3d"
           }
          ],
          "scattercarpet": [
           {
            "marker": {
             "colorbar": {
              "outlinewidth": 0,
              "ticks": ""
             }
            },
            "type": "scattercarpet"
           }
          ],
          "scattergeo": [
           {
            "marker": {
             "colorbar": {
              "outlinewidth": 0,
              "ticks": ""
             }
            },
            "type": "scattergeo"
           }
          ],
          "scattergl": [
           {
            "marker": {
             "colorbar": {
              "outlinewidth": 0,
              "ticks": ""
             }
            },
            "type": "scattergl"
           }
          ],
          "scattermapbox": [
           {
            "marker": {
             "colorbar": {
              "outlinewidth": 0,
              "ticks": ""
             }
            },
            "type": "scattermapbox"
           }
          ],
          "scatterpolar": [
           {
            "marker": {
             "colorbar": {
              "outlinewidth": 0,
              "ticks": ""
             }
            },
            "type": "scatterpolar"
           }
          ],
          "scatterpolargl": [
           {
            "marker": {
             "colorbar": {
              "outlinewidth": 0,
              "ticks": ""
             }
            },
            "type": "scatterpolargl"
           }
          ],
          "scatterternary": [
           {
            "marker": {
             "colorbar": {
              "outlinewidth": 0,
              "ticks": ""
             }
            },
            "type": "scatterternary"
           }
          ],
          "surface": [
           {
            "colorbar": {
             "outlinewidth": 0,
             "ticks": ""
            },
            "colorscale": [
             [
              0,
              "#0d0887"
             ],
             [
              0.1111111111111111,
              "#46039f"
             ],
             [
              0.2222222222222222,
              "#7201a8"
             ],
             [
              0.3333333333333333,
              "#9c179e"
             ],
             [
              0.4444444444444444,
              "#bd3786"
             ],
             [
              0.5555555555555556,
              "#d8576b"
             ],
             [
              0.6666666666666666,
              "#ed7953"
             ],
             [
              0.7777777777777778,
              "#fb9f3a"
             ],
             [
              0.8888888888888888,
              "#fdca26"
             ],
             [
              1,
              "#f0f921"
             ]
            ],
            "type": "surface"
           }
          ],
          "table": [
           {
            "cells": {
             "fill": {
              "color": "#EBF0F8"
             },
             "line": {
              "color": "white"
             }
            },
            "header": {
             "fill": {
              "color": "#C8D4E3"
             },
             "line": {
              "color": "white"
             }
            },
            "type": "table"
           }
          ]
         },
         "layout": {
          "annotationdefaults": {
           "arrowcolor": "#2a3f5f",
           "arrowhead": 0,
           "arrowwidth": 1
          },
          "autotypenumbers": "strict",
          "coloraxis": {
           "colorbar": {
            "outlinewidth": 0,
            "ticks": ""
           }
          },
          "colorscale": {
           "diverging": [
            [
             0,
             "#8e0152"
            ],
            [
             0.1,
             "#c51b7d"
            ],
            [
             0.2,
             "#de77ae"
            ],
            [
             0.3,
             "#f1b6da"
            ],
            [
             0.4,
             "#fde0ef"
            ],
            [
             0.5,
             "#f7f7f7"
            ],
            [
             0.6,
             "#e6f5d0"
            ],
            [
             0.7,
             "#b8e186"
            ],
            [
             0.8,
             "#7fbc41"
            ],
            [
             0.9,
             "#4d9221"
            ],
            [
             1,
             "#276419"
            ]
           ],
           "sequential": [
            [
             0,
             "#0d0887"
            ],
            [
             0.1111111111111111,
             "#46039f"
            ],
            [
             0.2222222222222222,
             "#7201a8"
            ],
            [
             0.3333333333333333,
             "#9c179e"
            ],
            [
             0.4444444444444444,
             "#bd3786"
            ],
            [
             0.5555555555555556,
             "#d8576b"
            ],
            [
             0.6666666666666666,
             "#ed7953"
            ],
            [
             0.7777777777777778,
             "#fb9f3a"
            ],
            [
             0.8888888888888888,
             "#fdca26"
            ],
            [
             1,
             "#f0f921"
            ]
           ],
           "sequentialminus": [
            [
             0,
             "#0d0887"
            ],
            [
             0.1111111111111111,
             "#46039f"
            ],
            [
             0.2222222222222222,
             "#7201a8"
            ],
            [
             0.3333333333333333,
             "#9c179e"
            ],
            [
             0.4444444444444444,
             "#bd3786"
            ],
            [
             0.5555555555555556,
             "#d8576b"
            ],
            [
             0.6666666666666666,
             "#ed7953"
            ],
            [
             0.7777777777777778,
             "#fb9f3a"
            ],
            [
             0.8888888888888888,
             "#fdca26"
            ],
            [
             1,
             "#f0f921"
            ]
           ]
          },
          "colorway": [
           "#636efa",
           "#EF553B",
           "#00cc96",
           "#ab63fa",
           "#FFA15A",
           "#19d3f3",
           "#FF6692",
           "#B6E880",
           "#FF97FF",
           "#FECB52"
          ],
          "font": {
           "color": "#2a3f5f"
          },
          "geo": {
           "bgcolor": "white",
           "lakecolor": "white",
           "landcolor": "#E5ECF6",
           "showlakes": true,
           "showland": true,
           "subunitcolor": "white"
          },
          "hoverlabel": {
           "align": "left"
          },
          "hovermode": "closest",
          "mapbox": {
           "style": "light"
          },
          "paper_bgcolor": "white",
          "plot_bgcolor": "#E5ECF6",
          "polar": {
           "angularaxis": {
            "gridcolor": "white",
            "linecolor": "white",
            "ticks": ""
           },
           "bgcolor": "#E5ECF6",
           "radialaxis": {
            "gridcolor": "white",
            "linecolor": "white",
            "ticks": ""
           }
          },
          "scene": {
           "xaxis": {
            "backgroundcolor": "#E5ECF6",
            "gridcolor": "white",
            "gridwidth": 2,
            "linecolor": "white",
            "showbackground": true,
            "ticks": "",
            "zerolinecolor": "white"
           },
           "yaxis": {
            "backgroundcolor": "#E5ECF6",
            "gridcolor": "white",
            "gridwidth": 2,
            "linecolor": "white",
            "showbackground": true,
            "ticks": "",
            "zerolinecolor": "white"
           },
           "zaxis": {
            "backgroundcolor": "#E5ECF6",
            "gridcolor": "white",
            "gridwidth": 2,
            "linecolor": "white",
            "showbackground": true,
            "ticks": "",
            "zerolinecolor": "white"
           }
          },
          "shapedefaults": {
           "line": {
            "color": "#2a3f5f"
           }
          },
          "ternary": {
           "aaxis": {
            "gridcolor": "white",
            "linecolor": "white",
            "ticks": ""
           },
           "baxis": {
            "gridcolor": "white",
            "linecolor": "white",
            "ticks": ""
           },
           "bgcolor": "#E5ECF6",
           "caxis": {
            "gridcolor": "white",
            "linecolor": "white",
            "ticks": ""
           }
          },
          "title": {
           "x": 0.05
          },
          "xaxis": {
           "automargin": true,
           "gridcolor": "white",
           "linecolor": "white",
           "ticks": "",
           "title": {
            "standoff": 15
           },
           "zerolinecolor": "white",
           "zerolinewidth": 2
          },
          "yaxis": {
           "automargin": true,
           "gridcolor": "white",
           "linecolor": "white",
           "ticks": "",
           "title": {
            "standoff": 15
           },
           "zerolinecolor": "white",
           "zerolinewidth": 2
          }
         }
        },
        "title": {
         "text": "ಕನ್ನಡ ಚಿತ್ರಗಳು ೧೯೭೮-೨೦೧೯ ಗಳಿಕೆ (ಕೋಟಿಯಲ್ಲಿ)"
        }
       }
      },
      "text/html": [
       "<div>                            <div id=\"9b94e0de-3a9c-4cd6-9ed1-5d24d041b18e\" class=\"plotly-graph-div\" style=\"height:525px; width:100%;\"></div>            <script type=\"text/javascript\">                require([\"plotly\"], function(Plotly) {                    window.PLOTLYENV=window.PLOTLYENV || {};                                    if (document.getElementById(\"9b94e0de-3a9c-4cd6-9ed1-5d24d041b18e\")) {                    Plotly.newPlot(                        \"9b94e0de-3a9c-4cd6-9ed1-5d24d041b18e\",                        [{\"hovertemplate\":\"theta=%{theta}<br>r=%{r}<extra></extra>\",\"legendgroup\":\"\\u0cac\\u0cac\\u0ccd\\u0cb0\\u0cc1\\u0cb5\\u0cbe\\u0cb9\\u0ca8, \\u0ce7\\u0cef\\u0ced\\u0ced\",\"marker\":{\"color\":\"#f0f921\",\"pattern\":{\"shape\":\"\"}},\"name\":\"\\u0cac\\u0cac\\u0ccd\\u0cb0\\u0cc1\\u0cb5\\u0cbe\\u0cb9\\u0ca8, \\u0ce7\\u0cef\\u0ced\\u0ced\",\"r\":[3.0],\"showlegend\":true,\"subplot\":\"polar\",\"theta\":[\"\\u0cac\\u0cac\\u0ccd\\u0cb0\\u0cc1\\u0cb5\\u0cbe\\u0cb9\\u0ca8, \\u0ce7\\u0cef\\u0ced\\u0ced\"],\"type\":\"barpolar\"},{\"hovertemplate\":\"theta=%{theta}<br>r=%{r}<extra></extra>\",\"legendgroup\":\"\\u0cb6\\u0c82\\u0c95\\u0cb0\\u0ccd \\u0c97\\u0cc1\\u0cb0\\u0cc1, \\u0ce7\\u0cef\\u0ced\\u0cee\",\"marker\":{\"color\":\"#fdca26\",\"pattern\":{\"shape\":\"\"}},\"name\":\"\\u0cb6\\u0c82\\u0c95\\u0cb0\\u0ccd \\u0c97\\u0cc1\\u0cb0\\u0cc1, \\u0ce7\\u0cef\\u0ced\\u0cee\",\"r\":[3.25],\"showlegend\":true,\"subplot\":\"polar\",\"theta\":[\"\\u0cb6\\u0c82\\u0c95\\u0cb0\\u0ccd \\u0c97\\u0cc1\\u0cb0\\u0cc1, \\u0ce7\\u0cef\\u0ced\\u0cee\"],\"type\":\"barpolar\"},{\"hovertemplate\":\"theta=%{theta}<br>r=%{r}<extra></extra>\",\"legendgroup\":\"\\u0c95\\u0cb5\\u0cbf\\u0cb0\\u0ca4\\u0ccd\\u0ca8 \\u0c95\\u0cbe\\u0cb3\\u0cbf\\u0ca6\\u0cbe\\u0cb8, \\u0ce7\\u0cef\\u0cee\\u0ce9\",\"marker\":{\"color\":\"#fb9f3a\",\"pattern\":{\"shape\":\"\"}},\"name\":\"\\u0c95\\u0cb5\\u0cbf\\u0cb0\\u0ca4\\u0ccd\\u0ca8 \\u0c95\\u0cbe\\u0cb3\\u0cbf\\u0ca6\\u0cbe\\u0cb8, \\u0ce7\\u0cef\\u0cee\\u0ce9\",\"r\":[4.5],\"showlegend\":true,\"subplot\":\"polar\",\"theta\":[\"\\u0c95\\u0cb5\\u0cbf\\u0cb0\\u0ca4\\u0ccd\\u0ca8 \\u0c95\\u0cbe\\u0cb3\\u0cbf\\u0ca6\\u0cbe\\u0cb8, \\u0ce7\\u0cef\\u0cee\\u0ce9\"],\"type\":\"barpolar\"},{\"hovertemplate\":\"theta=%{theta}<br>r=%{r}<extra></extra>\",\"legendgroup\":\"\\u0cac\\u0c82\\u0ca7\\u0ca8, \\u0ce7\\u0cef\\u0cee\\u0cea\",\"marker\":{\"color\":\"#ed7953\",\"pattern\":{\"shape\":\"\"}},\"name\":\"\\u0cac\\u0c82\\u0ca7\\u0ca8, \\u0ce7\\u0cef\\u0cee\\u0cea\",\"r\":[4.5],\"showlegend\":true,\"subplot\":\"polar\",\"theta\":[\"\\u0cac\\u0c82\\u0ca7\\u0ca8, \\u0ce7\\u0cef\\u0cee\\u0cea\"],\"type\":\"barpolar\"},{\"hovertemplate\":\"theta=%{theta}<br>r=%{r}<extra></extra>\",\"legendgroup\":\"\\u0caa\\u0ccd\\u0cb0\\u0cc7\\u0cae \\u0cb2\\u0ccb\\u0c95, \\u0ce7\\u0cef\\u0cee\\u0ced\",\"marker\":{\"color\":\"#d8576b\",\"pattern\":{\"shape\":\"\"}},\"name\":\"\\u0caa\\u0ccd\\u0cb0\\u0cc7\\u0cae \\u0cb2\\u0ccb\\u0c95, \\u0ce7\\u0cef\\u0cee\\u0ced\",\"r\":[5.0],\"showlegend\":true,\"subplot\":\"polar\",\"theta\":[\"\\u0caa\\u0ccd\\u0cb0\\u0cc7\\u0cae \\u0cb2\\u0ccb\\u0c95, \\u0ce7\\u0cef\\u0cee\\u0ced\"],\"type\":\"barpolar\"},{\"hovertemplate\":\"theta=%{theta}<br>r=%{r}<extra></extra>\",\"legendgroup\":\"\\u0ca8\\u0c82\\u0c9c\\u0cc1\\u0c82\\u0ca1\\u0cbf \\u0c95\\u0cb2\\u0ccd\\u0caf\\u0cbe\\u0ca3, \\u0ce7\\u0cef\\u0cee\\u0cef\",\"marker\":{\"color\":\"#bd3786\",\"pattern\":{\"shape\":\"\"}},\"name\":\"\\u0ca8\\u0c82\\u0c9c\\u0cc1\\u0c82\\u0ca1\\u0cbf \\u0c95\\u0cb2\\u0ccd\\u0caf\\u0cbe\\u0ca3, \\u0ce7\\u0cef\\u0cee\\u0cef\",\"r\":[6.0],\"showlegend\":true,\"subplot\":\"polar\",\"theta\":[\"\\u0ca8\\u0c82\\u0c9c\\u0cc1\\u0c82\\u0ca1\\u0cbf \\u0c95\\u0cb2\\u0ccd\\u0caf\\u0cbe\\u0ca3, \\u0ce7\\u0cef\\u0cee\\u0cef\"],\"type\":\"barpolar\"},{\"hovertemplate\":\"theta=%{theta}<br>r=%{r}<extra></extra>\",\"legendgroup\":\"\\u0c93\\u0c82, \\u0ce7\\u0cef\\u0cef\\u0ceb\",\"marker\":{\"color\":\"#9c179e\",\"pattern\":{\"shape\":\"\"}},\"name\":\"\\u0c93\\u0c82, \\u0ce7\\u0cef\\u0cef\\u0ceb\",\"r\":[10.0],\"showlegend\":true,\"subplot\":\"polar\",\"theta\":[\"\\u0c93\\u0c82, \\u0ce7\\u0cef\\u0cef\\u0ceb\"],\"type\":\"barpolar\"},{\"hovertemplate\":\"theta=%{theta}<br>r=%{r}<extra></extra>\",\"legendgroup\":\"\\u0c9c\\u0ca8\\u0cc1\\u0cae\\u0ca6 \\u0c9c\\u0ccb\\u0ca1\\u0cbf,\\u0ce7\\u0cef\\u0cef\\u0cec\",\"marker\":{\"color\":\"#7201a8\",\"pattern\":{\"shape\":\"\"}},\"name\":\"\\u0c9c\\u0ca8\\u0cc1\\u0cae\\u0ca6 \\u0c9c\\u0ccb\\u0ca1\\u0cbf,\\u0ce7\\u0cef\\u0cef\\u0cec\",\"r\":[11.0],\"showlegend\":true,\"subplot\":\"polar\",\"theta\":[\"\\u0c9c\\u0ca8\\u0cc1\\u0cae\\u0ca6 \\u0c9c\\u0ccb\\u0ca1\\u0cbf,\\u0ce7\\u0cef\\u0cef\\u0cec\"],\"type\":\"barpolar\"},{\"hovertemplate\":\"theta=%{theta}<br>r=%{r}<extra></extra>\",\"legendgroup\":\"\\u0cb8\\u0cb0\\u0ccd\\u0c95\\u0cb2\\u0ccd \\u0c87\\u0ca8\\u0ccd\\u0cb8\\u0ccd\\u0caa\\u0cc6\\u0c95\\u0ccd\\u0c9f\\u0cb0\\u0ccd, \\u0ce7\\u0cef\\u0cef\\u0cef\",\"marker\":{\"color\":\"#46039f\",\"pattern\":{\"shape\":\"\"}},\"name\":\"\\u0cb8\\u0cb0\\u0ccd\\u0c95\\u0cb2\\u0ccd \\u0c87\\u0ca8\\u0ccd\\u0cb8\\u0ccd\\u0caa\\u0cc6\\u0c95\\u0ccd\\u0c9f\\u0cb0\\u0ccd, \\u0ce7\\u0cef\\u0cef\\u0cef\",\"r\":[13.0],\"showlegend\":true,\"subplot\":\"polar\",\"theta\":[\"\\u0cb8\\u0cb0\\u0ccd\\u0c95\\u0cb2\\u0ccd \\u0c87\\u0ca8\\u0ccd\\u0cb8\\u0ccd\\u0caa\\u0cc6\\u0c95\\u0ccd\\u0c9f\\u0cb0\\u0ccd, \\u0ce7\\u0cef\\u0cef\\u0cef\"],\"type\":\"barpolar\"},{\"hovertemplate\":\"theta=%{theta}<br>r=%{r}<extra></extra>\",\"legendgroup\":\"\\u0caf\\u0c9c\\u0cae\\u0cbe\\u0ca8, \\u0ce8\\u0ce6\\u0ce6\\u0ce6\",\"marker\":{\"color\":\"#0d0887\",\"pattern\":{\"shape\":\"\"}},\"name\":\"\\u0caf\\u0c9c\\u0cae\\u0cbe\\u0ca8, \\u0ce8\\u0ce6\\u0ce6\\u0ce6\",\"r\":[20.0],\"showlegend\":true,\"subplot\":\"polar\",\"theta\":[\"\\u0caf\\u0c9c\\u0cae\\u0cbe\\u0ca8, \\u0ce8\\u0ce6\\u0ce6\\u0ce6\"],\"type\":\"barpolar\"},{\"hovertemplate\":\"theta=%{theta}<br>r=%{r}<extra></extra>\",\"legendgroup\":\"\\u0c86\\u0caa\\u0ccd\\u0ca4 \\u0cae\\u0cbf\\u0ca4\\u0ccd\\u0cb0 , \\u0ce8\\u0ce6\\u0ce6\\u0ce9\",\"marker\":{\"color\":\"#f0f921\",\"pattern\":{\"shape\":\"\"}},\"name\":\"\\u0c86\\u0caa\\u0ccd\\u0ca4 \\u0cae\\u0cbf\\u0ca4\\u0ccd\\u0cb0 , \\u0ce8\\u0ce6\\u0ce6\\u0ce9\",\"r\":[25.0],\"showlegend\":true,\"subplot\":\"polar\",\"theta\":[\"\\u0c86\\u0caa\\u0ccd\\u0ca4 \\u0cae\\u0cbf\\u0ca4\\u0ccd\\u0cb0 , \\u0ce8\\u0ce6\\u0ce6\\u0ce9\"],\"type\":\"barpolar\"},{\"hovertemplate\":\"theta=%{theta}<br>r=%{r}<extra></extra>\",\"legendgroup\":\"\\u0c9c\\u0ccb\\u0c97\\u0cbf, \\u0ce8\\u0ce6\\u0ce6\\u0ceb\",\"marker\":{\"color\":\"#fdca26\",\"pattern\":{\"shape\":\"\"}},\"name\":\"\\u0c9c\\u0ccb\\u0c97\\u0cbf, \\u0ce8\\u0ce6\\u0ce6\\u0ceb\",\"r\":[35.0],\"showlegend\":true,\"subplot\":\"polar\",\"theta\":[\"\\u0c9c\\u0ccb\\u0c97\\u0cbf, \\u0ce8\\u0ce6\\u0ce6\\u0ceb\"],\"type\":\"barpolar\"},{\"hovertemplate\":\"theta=%{theta}<br>r=%{r}<extra></extra>\",\"legendgroup\":\"\\u0cae\\u0cc1\\u0c82\\u0c97\\u0cbe\\u0cb0\\u0cc1 \\u0cae\\u0cb3\\u0cc6, \\u0ce8\\u0ce6\\u0ce6\\u0cec\",\"marker\":{\"color\":\"#fb9f3a\",\"pattern\":{\"shape\":\"\"}},\"name\":\"\\u0cae\\u0cc1\\u0c82\\u0c97\\u0cbe\\u0cb0\\u0cc1 \\u0cae\\u0cb3\\u0cc6, \\u0ce8\\u0ce6\\u0ce6\\u0cec\",\"r\":[60.0],\"showlegend\":true,\"subplot\":\"polar\",\"theta\":[\"\\u0cae\\u0cc1\\u0c82\\u0c97\\u0cbe\\u0cb0\\u0cc1 \\u0cae\\u0cb3\\u0cc6, \\u0ce8\\u0ce6\\u0ce6\\u0cec\"],\"type\":\"barpolar\"},{\"hovertemplate\":\"theta=%{theta}<br>r=%{r}<extra></extra>\",\"legendgroup\":\"\\u0cae\\u0cbf\\u0cb8\\u0ccd\\u0c9f\\u0cb0\\u0ccd \\u0c85\\u0c82\\u0ca1\\u0ccd \\u0cae\\u0cbf\\u0cb8\\u0ccd\\u0cb8\\u0cc2\\u0cb8\\u0ccd \\u0cb0\\u0cbe\\u0cae\\u0cbe\\u0c9a\\u0cbe\\u0cb0\\u0cbf, \\u0ce8\\u0ce6\\u0ce7\\u0cea\",\"marker\":{\"color\":\"#ed7953\",\"pattern\":{\"shape\":\"\"}},\"name\":\"\\u0cae\\u0cbf\\u0cb8\\u0ccd\\u0c9f\\u0cb0\\u0ccd \\u0c85\\u0c82\\u0ca1\\u0ccd \\u0cae\\u0cbf\\u0cb8\\u0ccd\\u0cb8\\u0cc2\\u0cb8\\u0ccd \\u0cb0\\u0cbe\\u0cae\\u0cbe\\u0c9a\\u0cbe\\u0cb0\\u0cbf, \\u0ce8\\u0ce6\\u0ce7\\u0cea\",\"r\":[50.0],\"showlegend\":true,\"subplot\":\"polar\",\"theta\":[\"\\u0cae\\u0cbf\\u0cb8\\u0ccd\\u0c9f\\u0cb0\\u0ccd \\u0c85\\u0c82\\u0ca1\\u0ccd \\u0cae\\u0cbf\\u0cb8\\u0ccd\\u0cb8\\u0cc2\\u0cb8\\u0ccd \\u0cb0\\u0cbe\\u0cae\\u0cbe\\u0c9a\\u0cbe\\u0cb0\\u0cbf, \\u0ce8\\u0ce6\\u0ce7\\u0cea\"],\"type\":\"barpolar\"},{\"hovertemplate\":\"theta=%{theta}<br>r=%{r}<extra></extra>\",\"legendgroup\":\"\\u0c95\\u0cbf\\u0cb0\\u0cbf\\u0c95\\u0ccd \\u0caa\\u0cbe\\u0cb0\\u0ccd\\u0c9f\\u0cbf, \\u0ce8\\u0ce6\\u0ce7\\u0cec\",\"marker\":{\"color\":\"#d8576b\",\"pattern\":{\"shape\":\"\"}},\"name\":\"\\u0c95\\u0cbf\\u0cb0\\u0cbf\\u0c95\\u0ccd \\u0caa\\u0cbe\\u0cb0\\u0ccd\\u0c9f\\u0cbf, \\u0ce8\\u0ce6\\u0ce7\\u0cec\",\"r\":[50.0],\"showlegend\":true,\"subplot\":\"polar\",\"theta\":[\"\\u0c95\\u0cbf\\u0cb0\\u0cbf\\u0c95\\u0ccd \\u0caa\\u0cbe\\u0cb0\\u0ccd\\u0c9f\\u0cbf, \\u0ce8\\u0ce6\\u0ce7\\u0cec\"],\"type\":\"barpolar\"},{\"hovertemplate\":\"theta=%{theta}<br>r=%{r}<extra></extra>\",\"legendgroup\":\"\\u0cb8\\u0c82\\u0c97\\u0cca\\u0cb3\\u0ccd\\u0cb3\\u0cbf \\u0cb0\\u0cbe\\u0caf\\u0ca3\\u0ccd\\u0ca3, \\u0ce8\\u0ce6\\u0ce7\\u0ce8\",\"marker\":{\"color\":\"#bd3786\",\"pattern\":{\"shape\":\"\"}},\"name\":\"\\u0cb8\\u0c82\\u0c97\\u0cca\\u0cb3\\u0ccd\\u0cb3\\u0cbf \\u0cb0\\u0cbe\\u0caf\\u0ca3\\u0ccd\\u0ca3, \\u0ce8\\u0ce6\\u0ce7\\u0ce8\",\"r\":[40.0],\"showlegend\":true,\"subplot\":\"polar\",\"theta\":[\"\\u0cb8\\u0c82\\u0c97\\u0cca\\u0cb3\\u0ccd\\u0cb3\\u0cbf \\u0cb0\\u0cbe\\u0caf\\u0ca3\\u0ccd\\u0ca3, \\u0ce8\\u0ce6\\u0ce7\\u0ce8\"],\"type\":\"barpolar\"},{\"hovertemplate\":\"theta=%{theta}<br>r=%{r}<extra></extra>\",\"legendgroup\":\"\\u0cb0\\u0cbe\\u0c9c\\u0c95\\u0cc1\\u0cae\\u0cbe\\u0cb0, \\u0ce8\\u0ce6\\u0ce7\\u0ced\",\"marker\":{\"color\":\"#9c179e\",\"pattern\":{\"shape\":\"\"}},\"name\":\"\\u0cb0\\u0cbe\\u0c9c\\u0c95\\u0cc1\\u0cae\\u0cbe\\u0cb0, \\u0ce8\\u0ce6\\u0ce7\\u0ced\",\"r\":[75.0],\"showlegend\":true,\"subplot\":\"polar\",\"theta\":[\"\\u0cb0\\u0cbe\\u0c9c\\u0c95\\u0cc1\\u0cae\\u0cbe\\u0cb0, \\u0ce8\\u0ce6\\u0ce7\\u0ced\"],\"type\":\"barpolar\"},{\"hovertemplate\":\"theta=%{theta}<br>r=%{r}<extra></extra>\",\"legendgroup\":\"\\u0c95\\u0cc6\\u0c9c\\u0cbf\\u0cab\\u0ccd \\u0ce7, \\u0ce8\\u0ce6\\u0ce7\\u0cef\",\"marker\":{\"color\":\"#7201a8\",\"pattern\":{\"shape\":\"\"}},\"name\":\"\\u0c95\\u0cc6\\u0c9c\\u0cbf\\u0cab\\u0ccd \\u0ce7, \\u0ce8\\u0ce6\\u0ce7\\u0cef\",\"r\":[133.0],\"showlegend\":true,\"subplot\":\"polar\",\"theta\":[\"\\u0c95\\u0cc6\\u0c9c\\u0cbf\\u0cab\\u0ccd \\u0ce7, \\u0ce8\\u0ce6\\u0ce7\\u0cef\"],\"type\":\"barpolar\"}],                        {\"template\":{\"data\":{\"histogram2dcontour\":[{\"type\":\"histogram2dcontour\",\"colorbar\":{\"outlinewidth\":0,\"ticks\":\"\"},\"colorscale\":[[0.0,\"#0d0887\"],[0.1111111111111111,\"#46039f\"],[0.2222222222222222,\"#7201a8\"],[0.3333333333333333,\"#9c179e\"],[0.4444444444444444,\"#bd3786\"],[0.5555555555555556,\"#d8576b\"],[0.6666666666666666,\"#ed7953\"],[0.7777777777777778,\"#fb9f3a\"],[0.8888888888888888,\"#fdca26\"],[1.0,\"#f0f921\"]]}],\"choropleth\":[{\"type\":\"choropleth\",\"colorbar\":{\"outlinewidth\":0,\"ticks\":\"\"}}],\"histogram2d\":[{\"type\":\"histogram2d\",\"colorbar\":{\"outlinewidth\":0,\"ticks\":\"\"},\"colorscale\":[[0.0,\"#0d0887\"],[0.1111111111111111,\"#46039f\"],[0.2222222222222222,\"#7201a8\"],[0.3333333333333333,\"#9c179e\"],[0.4444444444444444,\"#bd3786\"],[0.5555555555555556,\"#d8576b\"],[0.6666666666666666,\"#ed7953\"],[0.7777777777777778,\"#fb9f3a\"],[0.8888888888888888,\"#fdca26\"],[1.0,\"#f0f921\"]]}],\"heatmap\":[{\"type\":\"heatmap\",\"colorbar\":{\"outlinewidth\":0,\"ticks\":\"\"},\"colorscale\":[[0.0,\"#0d0887\"],[0.1111111111111111,\"#46039f\"],[0.2222222222222222,\"#7201a8\"],[0.3333333333333333,\"#9c179e\"],[0.4444444444444444,\"#bd3786\"],[0.5555555555555556,\"#d8576b\"],[0.6666666666666666,\"#ed7953\"],[0.7777777777777778,\"#fb9f3a\"],[0.8888888888888888,\"#fdca26\"],[1.0,\"#f0f921\"]]}],\"heatmapgl\":[{\"type\":\"heatmapgl\",\"colorbar\":{\"outlinewidth\":0,\"ticks\":\"\"},\"colorscale\":[[0.0,\"#0d0887\"],[0.1111111111111111,\"#46039f\"],[0.2222222222222222,\"#7201a8\"],[0.3333333333333333,\"#9c179e\"],[0.4444444444444444,\"#bd3786\"],[0.5555555555555556,\"#d8576b\"],[0.6666666666666666,\"#ed7953\"],[0.7777777777777778,\"#fb9f3a\"],[0.8888888888888888,\"#fdca26\"],[1.0,\"#f0f921\"]]}],\"contourcarpet\":[{\"type\":\"contourcarpet\",\"colorbar\":{\"outlinewidth\":0,\"ticks\":\"\"}}],\"contour\":[{\"type\":\"contour\",\"colorbar\":{\"outlinewidth\":0,\"ticks\":\"\"},\"colorscale\":[[0.0,\"#0d0887\"],[0.1111111111111111,\"#46039f\"],[0.2222222222222222,\"#7201a8\"],[0.3333333333333333,\"#9c179e\"],[0.4444444444444444,\"#bd3786\"],[0.5555555555555556,\"#d8576b\"],[0.6666666666666666,\"#ed7953\"],[0.7777777777777778,\"#fb9f3a\"],[0.8888888888888888,\"#fdca26\"],[1.0,\"#f0f921\"]]}],\"surface\":[{\"type\":\"surface\",\"colorbar\":{\"outlinewidth\":0,\"ticks\":\"\"},\"colorscale\":[[0.0,\"#0d0887\"],[0.1111111111111111,\"#46039f\"],[0.2222222222222222,\"#7201a8\"],[0.3333333333333333,\"#9c179e\"],[0.4444444444444444,\"#bd3786\"],[0.5555555555555556,\"#d8576b\"],[0.6666666666666666,\"#ed7953\"],[0.7777777777777778,\"#fb9f3a\"],[0.8888888888888888,\"#fdca26\"],[1.0,\"#f0f921\"]]}],\"mesh3d\":[{\"type\":\"mesh3d\",\"colorbar\":{\"outlinewidth\":0,\"ticks\":\"\"}}],\"scatter\":[{\"fillpattern\":{\"fillmode\":\"overlay\",\"size\":10,\"solidity\":0.2},\"type\":\"scatter\"}],\"parcoords\":[{\"type\":\"parcoords\",\"line\":{\"colorbar\":{\"outlinewidth\":0,\"ticks\":\"\"}}}],\"scatterpolargl\":[{\"type\":\"scatterpolargl\",\"marker\":{\"colorbar\":{\"outlinewidth\":0,\"ticks\":\"\"}}}],\"bar\":[{\"error_x\":{\"color\":\"#2a3f5f\"},\"error_y\":{\"color\":\"#2a3f5f\"},\"marker\":{\"line\":{\"color\":\"#E5ECF6\",\"width\":0.5},\"pattern\":{\"fillmode\":\"overlay\",\"size\":10,\"solidity\":0.2}},\"type\":\"bar\"}],\"scattergeo\":[{\"type\":\"scattergeo\",\"marker\":{\"colorbar\":{\"outlinewidth\":0,\"ticks\":\"\"}}}],\"scatterpolar\":[{\"type\":\"scatterpolar\",\"marker\":{\"colorbar\":{\"outlinewidth\":0,\"ticks\":\"\"}}}],\"histogram\":[{\"marker\":{\"pattern\":{\"fillmode\":\"overlay\",\"size\":10,\"solidity\":0.2}},\"type\":\"histogram\"}],\"scattergl\":[{\"type\":\"scattergl\",\"marker\":{\"colorbar\":{\"outlinewidth\":0,\"ticks\":\"\"}}}],\"scatter3d\":[{\"type\":\"scatter3d\",\"line\":{\"colorbar\":{\"outlinewidth\":0,\"ticks\":\"\"}},\"marker\":{\"colorbar\":{\"outlinewidth\":0,\"ticks\":\"\"}}}],\"scattermapbox\":[{\"type\":\"scattermapbox\",\"marker\":{\"colorbar\":{\"outlinewidth\":0,\"ticks\":\"\"}}}],\"scatterternary\":[{\"type\":\"scatterternary\",\"marker\":{\"colorbar\":{\"outlinewidth\":0,\"ticks\":\"\"}}}],\"scattercarpet\":[{\"type\":\"scattercarpet\",\"marker\":{\"colorbar\":{\"outlinewidth\":0,\"ticks\":\"\"}}}],\"carpet\":[{\"aaxis\":{\"endlinecolor\":\"#2a3f5f\",\"gridcolor\":\"white\",\"linecolor\":\"white\",\"minorgridcolor\":\"white\",\"startlinecolor\":\"#2a3f5f\"},\"baxis\":{\"endlinecolor\":\"#2a3f5f\",\"gridcolor\":\"white\",\"linecolor\":\"white\",\"minorgridcolor\":\"white\",\"startlinecolor\":\"#2a3f5f\"},\"type\":\"carpet\"}],\"table\":[{\"cells\":{\"fill\":{\"color\":\"#EBF0F8\"},\"line\":{\"color\":\"white\"}},\"header\":{\"fill\":{\"color\":\"#C8D4E3\"},\"line\":{\"color\":\"white\"}},\"type\":\"table\"}],\"barpolar\":[{\"marker\":{\"line\":{\"color\":\"#E5ECF6\",\"width\":0.5},\"pattern\":{\"fillmode\":\"overlay\",\"size\":10,\"solidity\":0.2}},\"type\":\"barpolar\"}],\"pie\":[{\"automargin\":true,\"type\":\"pie\"}]},\"layout\":{\"autotypenumbers\":\"strict\",\"colorway\":[\"#636efa\",\"#EF553B\",\"#00cc96\",\"#ab63fa\",\"#FFA15A\",\"#19d3f3\",\"#FF6692\",\"#B6E880\",\"#FF97FF\",\"#FECB52\"],\"font\":{\"color\":\"#2a3f5f\"},\"hovermode\":\"closest\",\"hoverlabel\":{\"align\":\"left\"},\"paper_bgcolor\":\"white\",\"plot_bgcolor\":\"#E5ECF6\",\"polar\":{\"bgcolor\":\"#E5ECF6\",\"angularaxis\":{\"gridcolor\":\"white\",\"linecolor\":\"white\",\"ticks\":\"\"},\"radialaxis\":{\"gridcolor\":\"white\",\"linecolor\":\"white\",\"ticks\":\"\"}},\"ternary\":{\"bgcolor\":\"#E5ECF6\",\"aaxis\":{\"gridcolor\":\"white\",\"linecolor\":\"white\",\"ticks\":\"\"},\"baxis\":{\"gridcolor\":\"white\",\"linecolor\":\"white\",\"ticks\":\"\"},\"caxis\":{\"gridcolor\":\"white\",\"linecolor\":\"white\",\"ticks\":\"\"}},\"coloraxis\":{\"colorbar\":{\"outlinewidth\":0,\"ticks\":\"\"}},\"colorscale\":{\"sequential\":[[0.0,\"#0d0887\"],[0.1111111111111111,\"#46039f\"],[0.2222222222222222,\"#7201a8\"],[0.3333333333333333,\"#9c179e\"],[0.4444444444444444,\"#bd3786\"],[0.5555555555555556,\"#d8576b\"],[0.6666666666666666,\"#ed7953\"],[0.7777777777777778,\"#fb9f3a\"],[0.8888888888888888,\"#fdca26\"],[1.0,\"#f0f921\"]],\"sequentialminus\":[[0.0,\"#0d0887\"],[0.1111111111111111,\"#46039f\"],[0.2222222222222222,\"#7201a8\"],[0.3333333333333333,\"#9c179e\"],[0.4444444444444444,\"#bd3786\"],[0.5555555555555556,\"#d8576b\"],[0.6666666666666666,\"#ed7953\"],[0.7777777777777778,\"#fb9f3a\"],[0.8888888888888888,\"#fdca26\"],[1.0,\"#f0f921\"]],\"diverging\":[[0,\"#8e0152\"],[0.1,\"#c51b7d\"],[0.2,\"#de77ae\"],[0.3,\"#f1b6da\"],[0.4,\"#fde0ef\"],[0.5,\"#f7f7f7\"],[0.6,\"#e6f5d0\"],[0.7,\"#b8e186\"],[0.8,\"#7fbc41\"],[0.9,\"#4d9221\"],[1,\"#276419\"]]},\"xaxis\":{\"gridcolor\":\"white\",\"linecolor\":\"white\",\"ticks\":\"\",\"title\":{\"standoff\":15},\"zerolinecolor\":\"white\",\"automargin\":true,\"zerolinewidth\":2},\"yaxis\":{\"gridcolor\":\"white\",\"linecolor\":\"white\",\"ticks\":\"\",\"title\":{\"standoff\":15},\"zerolinecolor\":\"white\",\"automargin\":true,\"zerolinewidth\":2},\"scene\":{\"xaxis\":{\"backgroundcolor\":\"#E5ECF6\",\"gridcolor\":\"white\",\"linecolor\":\"white\",\"showbackground\":true,\"ticks\":\"\",\"zerolinecolor\":\"white\",\"gridwidth\":2},\"yaxis\":{\"backgroundcolor\":\"#E5ECF6\",\"gridcolor\":\"white\",\"linecolor\":\"white\",\"showbackground\":true,\"ticks\":\"\",\"zerolinecolor\":\"white\",\"gridwidth\":2},\"zaxis\":{\"backgroundcolor\":\"#E5ECF6\",\"gridcolor\":\"white\",\"linecolor\":\"white\",\"showbackground\":true,\"ticks\":\"\",\"zerolinecolor\":\"white\",\"gridwidth\":2}},\"shapedefaults\":{\"line\":{\"color\":\"#2a3f5f\"}},\"annotationdefaults\":{\"arrowcolor\":\"#2a3f5f\",\"arrowhead\":0,\"arrowwidth\":1},\"geo\":{\"bgcolor\":\"white\",\"landcolor\":\"#E5ECF6\",\"subunitcolor\":\"white\",\"showland\":true,\"showlakes\":true,\"lakecolor\":\"white\"},\"title\":{\"x\":0.05},\"mapbox\":{\"style\":\"light\"}}},\"polar\":{\"domain\":{\"x\":[0.0,1.0],\"y\":[0.0,1.0]},\"angularaxis\":{\"direction\":\"clockwise\",\"rotation\":90,\"categoryorder\":\"array\",\"categoryarray\":[\"\\u0cac\\u0cac\\u0ccd\\u0cb0\\u0cc1\\u0cb5\\u0cbe\\u0cb9\\u0ca8, \\u0ce7\\u0cef\\u0ced\\u0ced\",\"\\u0cb6\\u0c82\\u0c95\\u0cb0\\u0ccd \\u0c97\\u0cc1\\u0cb0\\u0cc1, \\u0ce7\\u0cef\\u0ced\\u0cee\",\"\\u0c95\\u0cb5\\u0cbf\\u0cb0\\u0ca4\\u0ccd\\u0ca8 \\u0c95\\u0cbe\\u0cb3\\u0cbf\\u0ca6\\u0cbe\\u0cb8, \\u0ce7\\u0cef\\u0cee\\u0ce9\",\"\\u0cac\\u0c82\\u0ca7\\u0ca8, \\u0ce7\\u0cef\\u0cee\\u0cea\",\"\\u0caa\\u0ccd\\u0cb0\\u0cc7\\u0cae \\u0cb2\\u0ccb\\u0c95, \\u0ce7\\u0cef\\u0cee\\u0ced\",\"\\u0ca8\\u0c82\\u0c9c\\u0cc1\\u0c82\\u0ca1\\u0cbf \\u0c95\\u0cb2\\u0ccd\\u0caf\\u0cbe\\u0ca3, \\u0ce7\\u0cef\\u0cee\\u0cef\",\"\\u0c93\\u0c82, \\u0ce7\\u0cef\\u0cef\\u0ceb\",\"\\u0c9c\\u0ca8\\u0cc1\\u0cae\\u0ca6 \\u0c9c\\u0ccb\\u0ca1\\u0cbf,\\u0ce7\\u0cef\\u0cef\\u0cec\",\"\\u0cb8\\u0cb0\\u0ccd\\u0c95\\u0cb2\\u0ccd \\u0c87\\u0ca8\\u0ccd\\u0cb8\\u0ccd\\u0caa\\u0cc6\\u0c95\\u0ccd\\u0c9f\\u0cb0\\u0ccd, \\u0ce7\\u0cef\\u0cef\\u0cef\",\"\\u0caf\\u0c9c\\u0cae\\u0cbe\\u0ca8, \\u0ce8\\u0ce6\\u0ce6\\u0ce6\",\"\\u0c86\\u0caa\\u0ccd\\u0ca4 \\u0cae\\u0cbf\\u0ca4\\u0ccd\\u0cb0 , \\u0ce8\\u0ce6\\u0ce6\\u0ce9\",\"\\u0c9c\\u0ccb\\u0c97\\u0cbf, \\u0ce8\\u0ce6\\u0ce6\\u0ceb\",\"\\u0cae\\u0cc1\\u0c82\\u0c97\\u0cbe\\u0cb0\\u0cc1 \\u0cae\\u0cb3\\u0cc6, \\u0ce8\\u0ce6\\u0ce6\\u0cec\",\"\\u0cae\\u0cbf\\u0cb8\\u0ccd\\u0c9f\\u0cb0\\u0ccd \\u0c85\\u0c82\\u0ca1\\u0ccd \\u0cae\\u0cbf\\u0cb8\\u0ccd\\u0cb8\\u0cc2\\u0cb8\\u0ccd \\u0cb0\\u0cbe\\u0cae\\u0cbe\\u0c9a\\u0cbe\\u0cb0\\u0cbf, \\u0ce8\\u0ce6\\u0ce7\\u0cea\",\"\\u0c95\\u0cbf\\u0cb0\\u0cbf\\u0c95\\u0ccd \\u0caa\\u0cbe\\u0cb0\\u0ccd\\u0c9f\\u0cbf, \\u0ce8\\u0ce6\\u0ce7\\u0cec\",\"\\u0cb8\\u0c82\\u0c97\\u0cca\\u0cb3\\u0ccd\\u0cb3\\u0cbf \\u0cb0\\u0cbe\\u0caf\\u0ca3\\u0ccd\\u0ca3, \\u0ce8\\u0ce6\\u0ce7\\u0ce8\",\"\\u0cb0\\u0cbe\\u0c9c\\u0c95\\u0cc1\\u0cae\\u0cbe\\u0cb0, \\u0ce8\\u0ce6\\u0ce7\\u0ced\",\"\\u0c95\\u0cc6\\u0c9c\\u0cbf\\u0cab\\u0ccd \\u0ce7, \\u0ce8\\u0ce6\\u0ce7\\u0cef\"]},\"radialaxis\":{\"type\":\"log\"}},\"legend\":{\"title\":{\"text\":\"theta\"},\"tracegroupgap\":0},\"title\":{\"text\":\"\\u0c95\\u0ca8\\u0ccd\\u0ca8\\u0ca1 \\u0c9a\\u0cbf\\u0ca4\\u0ccd\\u0cb0\\u0c97\\u0cb3\\u0cc1 \\u0ce7\\u0cef\\u0ced\\u0cee-\\u0ce8\\u0ce6\\u0ce7\\u0cef \\u0c97\\u0cb3\\u0cbf\\u0c95\\u0cc6 (\\u0c95\\u0ccb\\u0c9f\\u0cbf\\u0caf\\u0cb2\\u0ccd\\u0cb2\\u0cbf)\"},\"barmode\":\"relative\"},                        {\"responsive\": true}                    ).then(function(){\n",
       "                            \n",
       "var gd = document.getElementById('9b94e0de-3a9c-4cd6-9ed1-5d24d041b18e');\n",
       "var x = new MutationObserver(function (mutations, observer) {{\n",
       "        var display = window.getComputedStyle(gd).display;\n",
       "        if (!display || display === 'none') {{\n",
       "            console.log([gd, 'removed!']);\n",
       "            Plotly.purge(gd);\n",
       "            observer.disconnect();\n",
       "        }}\n",
       "}});\n",
       "\n",
       "// Listen for the removal of the full notebook cells\n",
       "var notebookContainer = gd.closest('#notebook-container');\n",
       "if (notebookContainer) {{\n",
       "    x.observe(notebookContainer, {childList: true});\n",
       "}}\n",
       "\n",
       "// Listen for the clearing of the current output cell\n",
       "var outputEl = gd.closest('.output');\n",
       "if (outputEl) {{\n",
       "    x.observe(outputEl, {childList: true});\n",
       "}}\n",
       "\n",
       "                        })                };                });            </script>        </div>"
      ]
     },
     "metadata": {},
     "output_type": "display_data"
    }
   ],
   "source": [
    "#Improved Radar plot\n",
    "#For a filled line in a Radar Chart, update the figure created with px.line_polar with fig.update_traces.\n",
    "#Data from 1MDB.com 'Highest Grossing Kannada Films'\n",
    "#https://www.imdb.com/list/ls063689880/\n",
    "import plotly.express as px\n",
    "import pandas as pd\n",
    "df = pd.DataFrame(dict(\n",
    "    r=[3,3.25,4.5,4.5,5,6,10,11,13,20,25,35,60,50,50,40,75,133],\n",
    "    theta=[ 'ಬಬ್ರುವಾಹನ, ೧೯೭೭','ಶಂಕರ್ ಗುರು, ೧೯೭೮', 'ಕವಿರತ್ನ ಕಾಳಿದಾಸ, ೧೯೮೩','ಬಂಧನ, ೧೯೮೪','ಪ್ರೇಮ ಲೋಕ, ೧೯೮೭',\n",
    "           'ನಂಜುಂಡಿ ಕಲ್ಯಾಣ, ೧೯೮೯','ಓಂ, ೧೯೯೫','ಜನುಮದ ಜೋಡಿ,೧೯೯೬','ಸರ್ಕಲ್ ಇನ್ಸ್ಪೆಕ್ಟರ್, ೧೯೯೯','ಯಜಮಾನ, ೨೦೦೦', \n",
    "           'ಆಪ್ತ ಮಿತ್ರ , ೨೦೦೩','ಜೋಗಿ, ೨೦೦೫', 'ಮುಂಗಾರು ಮಳೆ, ೨೦೦೬','ಮಿಸ್ಟರ್ ಅಂಡ್ ಮಿಸ್ಸೂಸ್ ರಾಮಾಚಾರಿ, ೨೦೧೪',\n",
    "           'ಕಿರಿಕ್ ಪಾರ್ಟಿ, ೨೦೧೬', 'ಸಂಗೊಳ್ಳಿ ರಾಯಣ್ಣ, ೨೦೧೨','ರಾಜಕುಮಾರ, ೨೦೧೭','ಕೆಜಿಫ್ ೧, ೨೦೧೯']))\n",
    "          \n",
    "\n",
    "#log_x=True gets all values however small into the chart!!\n",
    "fig = px.bar_polar(df, r= 'r', theta='theta', color='theta',log_r=True,\n",
    "                   color_discrete_sequence= px.colors.sequential.Plasma_r,title=\"ಕನ್ನಡ ಚಿತ್ರಗಳು ೧೯೭೮-೨೦೧೯ ಗಳಿಕೆ (ಕೋಟಿಯಲ್ಲಿ)\")\n",
    "#fig.update_traces(fill='toself')\n",
    "fig.show()\n",
    "#px.colors.sequential.Sunsetdark_r\n",
    "#sequential.Plasma_r\n",
    "#RdBu\n",
    "#Magma\n",
    "#Plotly3\n",
    "#Electric\n",
    "#Blues\n",
    "#BuPu"
   ]
  },
  {
   "cell_type": "code",
   "execution_count": null,
   "id": "7fd1593a",
   "metadata": {},
   "outputs": [],
   "source": []
  },
  {
   "cell_type": "code",
   "execution_count": 2,
   "id": "0d6d6566",
   "metadata": {},
   "outputs": [
    {
     "data": {
      "application/vnd.plotly.v1+json": {
       "config": {
        "plotlyServerURL": "https://plot.ly"
       },
       "data": [
        {
         "hovertemplate": "theta=%{theta}<br>r=%{r}<extra></extra>",
         "legendgroup": " K.G.F: Chapter 2 (2022)",
         "marker": {
          "color": "#f0f921",
          "pattern": {
           "shape": ""
          }
         },
         "name": " K.G.F: Chapter 2 (2022)",
         "r": [
          1228.3
         ],
         "showlegend": true,
         "subplot": "polar",
         "theta": [
          " K.G.F: Chapter 2 (2022)"
         ],
         "type": "barpolar"
        },
        {
         "hovertemplate": "theta=%{theta}<br>r=%{r}<extra></extra>",
         "legendgroup": "Kantara (2022)",
         "marker": {
          "color": "#fdca26",
          "pattern": {
           "shape": ""
          }
         },
         "name": "Kantara (2022)",
         "r": [
          275.2
         ],
         "showlegend": true,
         "subplot": "polar",
         "theta": [
          "Kantara (2022)"
         ],
         "type": "barpolar"
        },
        {
         "hovertemplate": "theta=%{theta}<br>r=%{r}<extra></extra>",
         "legendgroup": "K.G.F (2018)",
         "marker": {
          "color": "#fb9f3a",
          "pattern": {
           "shape": ""
          }
         },
         "name": "K.G.F (2018)",
         "r": [
          226.1
         ],
         "showlegend": true,
         "subplot": "polar",
         "theta": [
          "K.G.F (2018)"
         ],
         "type": "barpolar"
        },
        {
         "hovertemplate": "theta=%{theta}<br>r=%{r}<extra></extra>",
         "legendgroup": "777 Charlie (2022)",
         "marker": {
          "color": "#ed7953",
          "pattern": {
           "shape": ""
          }
         },
         "name": "777 Charlie (2022)",
         "r": [
          100.5
         ],
         "showlegend": true,
         "subplot": "polar",
         "theta": [
          "777 Charlie (2022)"
         ],
         "type": "barpolar"
        },
        {
         "hovertemplate": "theta=%{theta}<br>r=%{r}<extra></extra>",
         "legendgroup": " Kurukshetra (2019)",
         "marker": {
          "color": "#d8576b",
          "pattern": {
           "shape": ""
          }
         },
         "name": " Kurukshetra (2019)",
         "r": [
          90
         ],
         "showlegend": true,
         "subplot": "polar",
         "theta": [
          " Kurukshetra (2019)"
         ],
         "type": "barpolar"
        },
        {
         "hovertemplate": "theta=%{theta}<br>r=%{r}<extra></extra>",
         "legendgroup": "James (I) (2022)",
         "marker": {
          "color": "#bd3786",
          "pattern": {
           "shape": ""
          }
         },
         "name": "James (I) (2022)",
         "r": [
          79.5
         ],
         "showlegend": true,
         "subplot": "polar",
         "theta": [
          "James (I) (2022)"
         ],
         "type": "barpolar"
        },
        {
         "hovertemplate": "theta=%{theta}<br>r=%{r}<extra></extra>",
         "legendgroup": " Raajakumara (2017)",
         "marker": {
          "color": "#9c179e",
          "pattern": {
           "shape": ""
          }
         },
         "name": " Raajakumara (2017)",
         "r": [
          71
         ],
         "showlegend": true,
         "subplot": "polar",
         "theta": [
          " Raajakumara (2017)"
         ],
         "type": "barpolar"
        },
        {
         "hovertemplate": "theta=%{theta}<br>r=%{r}<extra></extra>",
         "legendgroup": "Vikrant Rona (2022)",
         "marker": {
          "color": "#7201a8",
          "pattern": {
           "shape": ""
          }
         },
         "name": "Vikrant Rona (2022)",
         "r": [
          70.3
         ],
         "showlegend": true,
         "subplot": "polar",
         "theta": [
          "Vikrant Rona (2022)"
         ],
         "type": "barpolar"
        },
        {
         "hovertemplate": "theta=%{theta}<br>r=%{r}<extra></extra>",
         "legendgroup": "Avane Srimannarayana (2019)",
         "marker": {
          "color": "#46039f",
          "pattern": {
           "shape": ""
          }
         },
         "name": "Avane Srimannarayana (2019)",
         "r": [
          56.5
         ],
         "showlegend": true,
         "subplot": "polar",
         "theta": [
          "Avane Srimannarayana (2019)"
         ],
         "type": "barpolar"
        },
        {
         "hovertemplate": "theta=%{theta}<br>r=%{r}<extra></extra>",
         "legendgroup": "Roberrt (2021)",
         "marker": {
          "color": "#0d0887",
          "pattern": {
           "shape": ""
          }
         },
         "name": "Roberrt (2021)",
         "r": [
          54.7
         ],
         "showlegend": true,
         "subplot": "polar",
         "theta": [
          "Roberrt (2021)"
         ],
         "type": "barpolar"
        },
        {
         "hovertemplate": "theta=%{theta}<br>r=%{r}<extra></extra>",
         "legendgroup": "The Villain (I) (2018)",
         "marker": {
          "color": "#f0f921",
          "pattern": {
           "shape": ""
          }
         },
         "name": "The Villain (I) (2018)",
         "r": [
          52.5
         ],
         "showlegend": true,
         "subplot": "polar",
         "theta": [
          "The Villain (I) (2018)"
         ],
         "type": "barpolar"
        },
        {
         "hovertemplate": "theta=%{theta}<br>r=%{r}<extra></extra>",
         "legendgroup": "Yajamana (2019)",
         "marker": {
          "color": "#fdca26",
          "pattern": {
           "shape": ""
          }
         },
         "name": "Yajamana (2019)",
         "r": [
          52
         ],
         "showlegend": true,
         "subplot": "polar",
         "theta": [
          "Yajamana (2019)"
         ],
         "type": "barpolar"
        },
        {
         "hovertemplate": "theta=%{theta}<br>r=%{r}<extra></extra>",
         "legendgroup": "Pailwaan (2019)",
         "marker": {
          "color": "#fb9f3a",
          "pattern": {
           "shape": ""
          }
         },
         "name": "Pailwaan (2019)",
         "r": [
          49.5
         ],
         "showlegend": true,
         "subplot": "polar",
         "theta": [
          "Pailwaan (2019)"
         ],
         "type": "barpolar"
        },
        {
         "hovertemplate": "theta=%{theta}<br>r=%{r}<extra></extra>",
         "legendgroup": "Mr. And Mrs. Ramchari (2014)",
         "marker": {
          "color": "#ed7953",
          "pattern": {
           "shape": ""
          }
         },
         "name": "Mr. And Mrs. Ramchari (2014)",
         "r": [
          47.5
         ],
         "showlegend": true,
         "subplot": "polar",
         "theta": [
          "Mr. And Mrs. Ramchari (2014)"
         ],
         "type": "barpolar"
        },
        {
         "hovertemplate": "theta=%{theta}<br>r=%{r}<extra></extra>",
         "legendgroup": " Anjaniputra (2017)",
         "marker": {
          "color": "#d8576b",
          "pattern": {
           "shape": ""
          }
         },
         "name": " Anjaniputra (2017)",
         "r": [
          45.5
         ],
         "showlegend": true,
         "subplot": "polar",
         "theta": [
          " Anjaniputra (2017)"
         ],
         "type": "barpolar"
        },
        {
         "hovertemplate": "theta=%{theta}<br>r=%{r}<extra></extra>",
         "legendgroup": " Mungaru Male (2006)",
         "marker": {
          "color": "#bd3786",
          "pattern": {
           "shape": ""
          }
         },
         "name": " Mungaru Male (2006)",
         "r": [
          45
         ],
         "showlegend": true,
         "subplot": "polar",
         "theta": [
          " Mungaru Male (2006)"
         ],
         "type": "barpolar"
        }
       ],
       "layout": {
        "barmode": "relative",
        "legend": {
         "title": {
          "text": "theta"
         },
         "tracegroupgap": 0
        },
        "polar": {
         "angularaxis": {
          "categoryarray": [
           " K.G.F: Chapter 2 (2022)",
           "Kantara (2022)",
           "K.G.F (2018)",
           "777 Charlie (2022)",
           " Kurukshetra (2019)",
           "James (I) (2022)",
           " Raajakumara (2017)",
           "Vikrant Rona (2022)",
           "Avane Srimannarayana (2019)",
           "Roberrt (2021)",
           "The Villain (I) (2018)",
           "Yajamana (2019)",
           "Pailwaan (2019)",
           "Mr. And Mrs. Ramchari (2014)",
           " Anjaniputra (2017)",
           " Mungaru Male (2006)"
          ],
          "categoryorder": "array",
          "direction": "clockwise",
          "rotation": 90
         },
         "domain": {
          "x": [
           0,
           1
          ],
          "y": [
           0,
           1
          ]
         },
         "radialaxis": {
          "type": "log"
         }
        },
        "template": {
         "data": {
          "bar": [
           {
            "error_x": {
             "color": "#2a3f5f"
            },
            "error_y": {
             "color": "#2a3f5f"
            },
            "marker": {
             "line": {
              "color": "#E5ECF6",
              "width": 0.5
             },
             "pattern": {
              "fillmode": "overlay",
              "size": 10,
              "solidity": 0.2
             }
            },
            "type": "bar"
           }
          ],
          "barpolar": [
           {
            "marker": {
             "line": {
              "color": "#E5ECF6",
              "width": 0.5
             },
             "pattern": {
              "fillmode": "overlay",
              "size": 10,
              "solidity": 0.2
             }
            },
            "type": "barpolar"
           }
          ],
          "carpet": [
           {
            "aaxis": {
             "endlinecolor": "#2a3f5f",
             "gridcolor": "white",
             "linecolor": "white",
             "minorgridcolor": "white",
             "startlinecolor": "#2a3f5f"
            },
            "baxis": {
             "endlinecolor": "#2a3f5f",
             "gridcolor": "white",
             "linecolor": "white",
             "minorgridcolor": "white",
             "startlinecolor": "#2a3f5f"
            },
            "type": "carpet"
           }
          ],
          "choropleth": [
           {
            "colorbar": {
             "outlinewidth": 0,
             "ticks": ""
            },
            "type": "choropleth"
           }
          ],
          "contour": [
           {
            "colorbar": {
             "outlinewidth": 0,
             "ticks": ""
            },
            "colorscale": [
             [
              0,
              "#0d0887"
             ],
             [
              0.1111111111111111,
              "#46039f"
             ],
             [
              0.2222222222222222,
              "#7201a8"
             ],
             [
              0.3333333333333333,
              "#9c179e"
             ],
             [
              0.4444444444444444,
              "#bd3786"
             ],
             [
              0.5555555555555556,
              "#d8576b"
             ],
             [
              0.6666666666666666,
              "#ed7953"
             ],
             [
              0.7777777777777778,
              "#fb9f3a"
             ],
             [
              0.8888888888888888,
              "#fdca26"
             ],
             [
              1,
              "#f0f921"
             ]
            ],
            "type": "contour"
           }
          ],
          "contourcarpet": [
           {
            "colorbar": {
             "outlinewidth": 0,
             "ticks": ""
            },
            "type": "contourcarpet"
           }
          ],
          "heatmap": [
           {
            "colorbar": {
             "outlinewidth": 0,
             "ticks": ""
            },
            "colorscale": [
             [
              0,
              "#0d0887"
             ],
             [
              0.1111111111111111,
              "#46039f"
             ],
             [
              0.2222222222222222,
              "#7201a8"
             ],
             [
              0.3333333333333333,
              "#9c179e"
             ],
             [
              0.4444444444444444,
              "#bd3786"
             ],
             [
              0.5555555555555556,
              "#d8576b"
             ],
             [
              0.6666666666666666,
              "#ed7953"
             ],
             [
              0.7777777777777778,
              "#fb9f3a"
             ],
             [
              0.8888888888888888,
              "#fdca26"
             ],
             [
              1,
              "#f0f921"
             ]
            ],
            "type": "heatmap"
           }
          ],
          "heatmapgl": [
           {
            "colorbar": {
             "outlinewidth": 0,
             "ticks": ""
            },
            "colorscale": [
             [
              0,
              "#0d0887"
             ],
             [
              0.1111111111111111,
              "#46039f"
             ],
             [
              0.2222222222222222,
              "#7201a8"
             ],
             [
              0.3333333333333333,
              "#9c179e"
             ],
             [
              0.4444444444444444,
              "#bd3786"
             ],
             [
              0.5555555555555556,
              "#d8576b"
             ],
             [
              0.6666666666666666,
              "#ed7953"
             ],
             [
              0.7777777777777778,
              "#fb9f3a"
             ],
             [
              0.8888888888888888,
              "#fdca26"
             ],
             [
              1,
              "#f0f921"
             ]
            ],
            "type": "heatmapgl"
           }
          ],
          "histogram": [
           {
            "marker": {
             "pattern": {
              "fillmode": "overlay",
              "size": 10,
              "solidity": 0.2
             }
            },
            "type": "histogram"
           }
          ],
          "histogram2d": [
           {
            "colorbar": {
             "outlinewidth": 0,
             "ticks": ""
            },
            "colorscale": [
             [
              0,
              "#0d0887"
             ],
             [
              0.1111111111111111,
              "#46039f"
             ],
             [
              0.2222222222222222,
              "#7201a8"
             ],
             [
              0.3333333333333333,
              "#9c179e"
             ],
             [
              0.4444444444444444,
              "#bd3786"
             ],
             [
              0.5555555555555556,
              "#d8576b"
             ],
             [
              0.6666666666666666,
              "#ed7953"
             ],
             [
              0.7777777777777778,
              "#fb9f3a"
             ],
             [
              0.8888888888888888,
              "#fdca26"
             ],
             [
              1,
              "#f0f921"
             ]
            ],
            "type": "histogram2d"
           }
          ],
          "histogram2dcontour": [
           {
            "colorbar": {
             "outlinewidth": 0,
             "ticks": ""
            },
            "colorscale": [
             [
              0,
              "#0d0887"
             ],
             [
              0.1111111111111111,
              "#46039f"
             ],
             [
              0.2222222222222222,
              "#7201a8"
             ],
             [
              0.3333333333333333,
              "#9c179e"
             ],
             [
              0.4444444444444444,
              "#bd3786"
             ],
             [
              0.5555555555555556,
              "#d8576b"
             ],
             [
              0.6666666666666666,
              "#ed7953"
             ],
             [
              0.7777777777777778,
              "#fb9f3a"
             ],
             [
              0.8888888888888888,
              "#fdca26"
             ],
             [
              1,
              "#f0f921"
             ]
            ],
            "type": "histogram2dcontour"
           }
          ],
          "mesh3d": [
           {
            "colorbar": {
             "outlinewidth": 0,
             "ticks": ""
            },
            "type": "mesh3d"
           }
          ],
          "parcoords": [
           {
            "line": {
             "colorbar": {
              "outlinewidth": 0,
              "ticks": ""
             }
            },
            "type": "parcoords"
           }
          ],
          "pie": [
           {
            "automargin": true,
            "type": "pie"
           }
          ],
          "scatter": [
           {
            "fillpattern": {
             "fillmode": "overlay",
             "size": 10,
             "solidity": 0.2
            },
            "type": "scatter"
           }
          ],
          "scatter3d": [
           {
            "line": {
             "colorbar": {
              "outlinewidth": 0,
              "ticks": ""
             }
            },
            "marker": {
             "colorbar": {
              "outlinewidth": 0,
              "ticks": ""
             }
            },
            "type": "scatter3d"
           }
          ],
          "scattercarpet": [
           {
            "marker": {
             "colorbar": {
              "outlinewidth": 0,
              "ticks": ""
             }
            },
            "type": "scattercarpet"
           }
          ],
          "scattergeo": [
           {
            "marker": {
             "colorbar": {
              "outlinewidth": 0,
              "ticks": ""
             }
            },
            "type": "scattergeo"
           }
          ],
          "scattergl": [
           {
            "marker": {
             "colorbar": {
              "outlinewidth": 0,
              "ticks": ""
             }
            },
            "type": "scattergl"
           }
          ],
          "scattermapbox": [
           {
            "marker": {
             "colorbar": {
              "outlinewidth": 0,
              "ticks": ""
             }
            },
            "type": "scattermapbox"
           }
          ],
          "scatterpolar": [
           {
            "marker": {
             "colorbar": {
              "outlinewidth": 0,
              "ticks": ""
             }
            },
            "type": "scatterpolar"
           }
          ],
          "scatterpolargl": [
           {
            "marker": {
             "colorbar": {
              "outlinewidth": 0,
              "ticks": ""
             }
            },
            "type": "scatterpolargl"
           }
          ],
          "scatterternary": [
           {
            "marker": {
             "colorbar": {
              "outlinewidth": 0,
              "ticks": ""
             }
            },
            "type": "scatterternary"
           }
          ],
          "surface": [
           {
            "colorbar": {
             "outlinewidth": 0,
             "ticks": ""
            },
            "colorscale": [
             [
              0,
              "#0d0887"
             ],
             [
              0.1111111111111111,
              "#46039f"
             ],
             [
              0.2222222222222222,
              "#7201a8"
             ],
             [
              0.3333333333333333,
              "#9c179e"
             ],
             [
              0.4444444444444444,
              "#bd3786"
             ],
             [
              0.5555555555555556,
              "#d8576b"
             ],
             [
              0.6666666666666666,
              "#ed7953"
             ],
             [
              0.7777777777777778,
              "#fb9f3a"
             ],
             [
              0.8888888888888888,
              "#fdca26"
             ],
             [
              1,
              "#f0f921"
             ]
            ],
            "type": "surface"
           }
          ],
          "table": [
           {
            "cells": {
             "fill": {
              "color": "#EBF0F8"
             },
             "line": {
              "color": "white"
             }
            },
            "header": {
             "fill": {
              "color": "#C8D4E3"
             },
             "line": {
              "color": "white"
             }
            },
            "type": "table"
           }
          ]
         },
         "layout": {
          "annotationdefaults": {
           "arrowcolor": "#2a3f5f",
           "arrowhead": 0,
           "arrowwidth": 1
          },
          "autotypenumbers": "strict",
          "coloraxis": {
           "colorbar": {
            "outlinewidth": 0,
            "ticks": ""
           }
          },
          "colorscale": {
           "diverging": [
            [
             0,
             "#8e0152"
            ],
            [
             0.1,
             "#c51b7d"
            ],
            [
             0.2,
             "#de77ae"
            ],
            [
             0.3,
             "#f1b6da"
            ],
            [
             0.4,
             "#fde0ef"
            ],
            [
             0.5,
             "#f7f7f7"
            ],
            [
             0.6,
             "#e6f5d0"
            ],
            [
             0.7,
             "#b8e186"
            ],
            [
             0.8,
             "#7fbc41"
            ],
            [
             0.9,
             "#4d9221"
            ],
            [
             1,
             "#276419"
            ]
           ],
           "sequential": [
            [
             0,
             "#0d0887"
            ],
            [
             0.1111111111111111,
             "#46039f"
            ],
            [
             0.2222222222222222,
             "#7201a8"
            ],
            [
             0.3333333333333333,
             "#9c179e"
            ],
            [
             0.4444444444444444,
             "#bd3786"
            ],
            [
             0.5555555555555556,
             "#d8576b"
            ],
            [
             0.6666666666666666,
             "#ed7953"
            ],
            [
             0.7777777777777778,
             "#fb9f3a"
            ],
            [
             0.8888888888888888,
             "#fdca26"
            ],
            [
             1,
             "#f0f921"
            ]
           ],
           "sequentialminus": [
            [
             0,
             "#0d0887"
            ],
            [
             0.1111111111111111,
             "#46039f"
            ],
            [
             0.2222222222222222,
             "#7201a8"
            ],
            [
             0.3333333333333333,
             "#9c179e"
            ],
            [
             0.4444444444444444,
             "#bd3786"
            ],
            [
             0.5555555555555556,
             "#d8576b"
            ],
            [
             0.6666666666666666,
             "#ed7953"
            ],
            [
             0.7777777777777778,
             "#fb9f3a"
            ],
            [
             0.8888888888888888,
             "#fdca26"
            ],
            [
             1,
             "#f0f921"
            ]
           ]
          },
          "colorway": [
           "#636efa",
           "#EF553B",
           "#00cc96",
           "#ab63fa",
           "#FFA15A",
           "#19d3f3",
           "#FF6692",
           "#B6E880",
           "#FF97FF",
           "#FECB52"
          ],
          "font": {
           "color": "#2a3f5f"
          },
          "geo": {
           "bgcolor": "white",
           "lakecolor": "white",
           "landcolor": "#E5ECF6",
           "showlakes": true,
           "showland": true,
           "subunitcolor": "white"
          },
          "hoverlabel": {
           "align": "left"
          },
          "hovermode": "closest",
          "mapbox": {
           "style": "light"
          },
          "paper_bgcolor": "white",
          "plot_bgcolor": "#E5ECF6",
          "polar": {
           "angularaxis": {
            "gridcolor": "white",
            "linecolor": "white",
            "ticks": ""
           },
           "bgcolor": "#E5ECF6",
           "radialaxis": {
            "gridcolor": "white",
            "linecolor": "white",
            "ticks": ""
           }
          },
          "scene": {
           "xaxis": {
            "backgroundcolor": "#E5ECF6",
            "gridcolor": "white",
            "gridwidth": 2,
            "linecolor": "white",
            "showbackground": true,
            "ticks": "",
            "zerolinecolor": "white"
           },
           "yaxis": {
            "backgroundcolor": "#E5ECF6",
            "gridcolor": "white",
            "gridwidth": 2,
            "linecolor": "white",
            "showbackground": true,
            "ticks": "",
            "zerolinecolor": "white"
           },
           "zaxis": {
            "backgroundcolor": "#E5ECF6",
            "gridcolor": "white",
            "gridwidth": 2,
            "linecolor": "white",
            "showbackground": true,
            "ticks": "",
            "zerolinecolor": "white"
           }
          },
          "shapedefaults": {
           "line": {
            "color": "#2a3f5f"
           }
          },
          "ternary": {
           "aaxis": {
            "gridcolor": "white",
            "linecolor": "white",
            "ticks": ""
           },
           "baxis": {
            "gridcolor": "white",
            "linecolor": "white",
            "ticks": ""
           },
           "bgcolor": "#E5ECF6",
           "caxis": {
            "gridcolor": "white",
            "linecolor": "white",
            "ticks": ""
           }
          },
          "title": {
           "x": 0.05
          },
          "xaxis": {
           "automargin": true,
           "gridcolor": "white",
           "linecolor": "white",
           "ticks": "",
           "title": {
            "standoff": 15
           },
           "zerolinecolor": "white",
           "zerolinewidth": 2
          },
          "yaxis": {
           "automargin": true,
           "gridcolor": "white",
           "linecolor": "white",
           "ticks": "",
           "title": {
            "standoff": 15
           },
           "zerolinecolor": "white",
           "zerolinewidth": 2
          }
         }
        },
        "title": {
         "text": "ಕನ್ನಡ ಚಿತ್ರಗಳು 2006-2022 ಗಳಿಕೆ (ಕೋಟಿಯಲ್ಲಿ)"
        }
       }
      },
      "text/html": [
       "<div>                            <div id=\"1d94d4f9-df8f-447e-b54d-77a332af5020\" class=\"plotly-graph-div\" style=\"height:525px; width:100%;\"></div>            <script type=\"text/javascript\">                require([\"plotly\"], function(Plotly) {                    window.PLOTLYENV=window.PLOTLYENV || {};                                    if (document.getElementById(\"1d94d4f9-df8f-447e-b54d-77a332af5020\")) {                    Plotly.newPlot(                        \"1d94d4f9-df8f-447e-b54d-77a332af5020\",                        [{\"hovertemplate\":\"theta=%{theta}<br>r=%{r}<extra></extra>\",\"legendgroup\":\" K.G.F: Chapter 2 (2022)\",\"marker\":{\"color\":\"#f0f921\",\"pattern\":{\"shape\":\"\"}},\"name\":\" K.G.F: Chapter 2 (2022)\",\"r\":[1228.3],\"showlegend\":true,\"subplot\":\"polar\",\"theta\":[\" K.G.F: Chapter 2 (2022)\"],\"type\":\"barpolar\"},{\"hovertemplate\":\"theta=%{theta}<br>r=%{r}<extra></extra>\",\"legendgroup\":\"Kantara (2022)\",\"marker\":{\"color\":\"#fdca26\",\"pattern\":{\"shape\":\"\"}},\"name\":\"Kantara (2022)\",\"r\":[275.2],\"showlegend\":true,\"subplot\":\"polar\",\"theta\":[\"Kantara (2022)\"],\"type\":\"barpolar\"},{\"hovertemplate\":\"theta=%{theta}<br>r=%{r}<extra></extra>\",\"legendgroup\":\"K.G.F (2018)\",\"marker\":{\"color\":\"#fb9f3a\",\"pattern\":{\"shape\":\"\"}},\"name\":\"K.G.F (2018)\",\"r\":[226.1],\"showlegend\":true,\"subplot\":\"polar\",\"theta\":[\"K.G.F (2018)\"],\"type\":\"barpolar\"},{\"hovertemplate\":\"theta=%{theta}<br>r=%{r}<extra></extra>\",\"legendgroup\":\"777 Charlie (2022)\",\"marker\":{\"color\":\"#ed7953\",\"pattern\":{\"shape\":\"\"}},\"name\":\"777 Charlie (2022)\",\"r\":[100.5],\"showlegend\":true,\"subplot\":\"polar\",\"theta\":[\"777 Charlie (2022)\"],\"type\":\"barpolar\"},{\"hovertemplate\":\"theta=%{theta}<br>r=%{r}<extra></extra>\",\"legendgroup\":\" Kurukshetra (2019)\",\"marker\":{\"color\":\"#d8576b\",\"pattern\":{\"shape\":\"\"}},\"name\":\" Kurukshetra (2019)\",\"r\":[90.0],\"showlegend\":true,\"subplot\":\"polar\",\"theta\":[\" Kurukshetra (2019)\"],\"type\":\"barpolar\"},{\"hovertemplate\":\"theta=%{theta}<br>r=%{r}<extra></extra>\",\"legendgroup\":\"James (I) (2022)\",\"marker\":{\"color\":\"#bd3786\",\"pattern\":{\"shape\":\"\"}},\"name\":\"James (I) (2022)\",\"r\":[79.5],\"showlegend\":true,\"subplot\":\"polar\",\"theta\":[\"James (I) (2022)\"],\"type\":\"barpolar\"},{\"hovertemplate\":\"theta=%{theta}<br>r=%{r}<extra></extra>\",\"legendgroup\":\" Raajakumara (2017)\",\"marker\":{\"color\":\"#9c179e\",\"pattern\":{\"shape\":\"\"}},\"name\":\" Raajakumara (2017)\",\"r\":[71.0],\"showlegend\":true,\"subplot\":\"polar\",\"theta\":[\" Raajakumara (2017)\"],\"type\":\"barpolar\"},{\"hovertemplate\":\"theta=%{theta}<br>r=%{r}<extra></extra>\",\"legendgroup\":\"Vikrant Rona (2022)\",\"marker\":{\"color\":\"#7201a8\",\"pattern\":{\"shape\":\"\"}},\"name\":\"Vikrant Rona (2022)\",\"r\":[70.3],\"showlegend\":true,\"subplot\":\"polar\",\"theta\":[\"Vikrant Rona (2022)\"],\"type\":\"barpolar\"},{\"hovertemplate\":\"theta=%{theta}<br>r=%{r}<extra></extra>\",\"legendgroup\":\"Avane Srimannarayana (2019)\",\"marker\":{\"color\":\"#46039f\",\"pattern\":{\"shape\":\"\"}},\"name\":\"Avane Srimannarayana (2019)\",\"r\":[56.5],\"showlegend\":true,\"subplot\":\"polar\",\"theta\":[\"Avane Srimannarayana (2019)\"],\"type\":\"barpolar\"},{\"hovertemplate\":\"theta=%{theta}<br>r=%{r}<extra></extra>\",\"legendgroup\":\"Roberrt (2021)\",\"marker\":{\"color\":\"#0d0887\",\"pattern\":{\"shape\":\"\"}},\"name\":\"Roberrt (2021)\",\"r\":[54.7],\"showlegend\":true,\"subplot\":\"polar\",\"theta\":[\"Roberrt (2021)\"],\"type\":\"barpolar\"},{\"hovertemplate\":\"theta=%{theta}<br>r=%{r}<extra></extra>\",\"legendgroup\":\"The Villain (I) (2018)\",\"marker\":{\"color\":\"#f0f921\",\"pattern\":{\"shape\":\"\"}},\"name\":\"The Villain (I) (2018)\",\"r\":[52.5],\"showlegend\":true,\"subplot\":\"polar\",\"theta\":[\"The Villain (I) (2018)\"],\"type\":\"barpolar\"},{\"hovertemplate\":\"theta=%{theta}<br>r=%{r}<extra></extra>\",\"legendgroup\":\"Yajamana (2019)\",\"marker\":{\"color\":\"#fdca26\",\"pattern\":{\"shape\":\"\"}},\"name\":\"Yajamana (2019)\",\"r\":[52.0],\"showlegend\":true,\"subplot\":\"polar\",\"theta\":[\"Yajamana (2019)\"],\"type\":\"barpolar\"},{\"hovertemplate\":\"theta=%{theta}<br>r=%{r}<extra></extra>\",\"legendgroup\":\"Pailwaan (2019)\",\"marker\":{\"color\":\"#fb9f3a\",\"pattern\":{\"shape\":\"\"}},\"name\":\"Pailwaan (2019)\",\"r\":[49.5],\"showlegend\":true,\"subplot\":\"polar\",\"theta\":[\"Pailwaan (2019)\"],\"type\":\"barpolar\"},{\"hovertemplate\":\"theta=%{theta}<br>r=%{r}<extra></extra>\",\"legendgroup\":\"Mr. And Mrs. Ramchari (2014)\",\"marker\":{\"color\":\"#ed7953\",\"pattern\":{\"shape\":\"\"}},\"name\":\"Mr. And Mrs. Ramchari (2014)\",\"r\":[47.5],\"showlegend\":true,\"subplot\":\"polar\",\"theta\":[\"Mr. And Mrs. Ramchari (2014)\"],\"type\":\"barpolar\"},{\"hovertemplate\":\"theta=%{theta}<br>r=%{r}<extra></extra>\",\"legendgroup\":\" Anjaniputra (2017)\",\"marker\":{\"color\":\"#d8576b\",\"pattern\":{\"shape\":\"\"}},\"name\":\" Anjaniputra (2017)\",\"r\":[45.5],\"showlegend\":true,\"subplot\":\"polar\",\"theta\":[\" Anjaniputra (2017)\"],\"type\":\"barpolar\"},{\"hovertemplate\":\"theta=%{theta}<br>r=%{r}<extra></extra>\",\"legendgroup\":\" Mungaru Male (2006)\",\"marker\":{\"color\":\"#bd3786\",\"pattern\":{\"shape\":\"\"}},\"name\":\" Mungaru Male (2006)\",\"r\":[45.0],\"showlegend\":true,\"subplot\":\"polar\",\"theta\":[\" Mungaru Male (2006)\"],\"type\":\"barpolar\"}],                        {\"template\":{\"data\":{\"histogram2dcontour\":[{\"type\":\"histogram2dcontour\",\"colorbar\":{\"outlinewidth\":0,\"ticks\":\"\"},\"colorscale\":[[0.0,\"#0d0887\"],[0.1111111111111111,\"#46039f\"],[0.2222222222222222,\"#7201a8\"],[0.3333333333333333,\"#9c179e\"],[0.4444444444444444,\"#bd3786\"],[0.5555555555555556,\"#d8576b\"],[0.6666666666666666,\"#ed7953\"],[0.7777777777777778,\"#fb9f3a\"],[0.8888888888888888,\"#fdca26\"],[1.0,\"#f0f921\"]]}],\"choropleth\":[{\"type\":\"choropleth\",\"colorbar\":{\"outlinewidth\":0,\"ticks\":\"\"}}],\"histogram2d\":[{\"type\":\"histogram2d\",\"colorbar\":{\"outlinewidth\":0,\"ticks\":\"\"},\"colorscale\":[[0.0,\"#0d0887\"],[0.1111111111111111,\"#46039f\"],[0.2222222222222222,\"#7201a8\"],[0.3333333333333333,\"#9c179e\"],[0.4444444444444444,\"#bd3786\"],[0.5555555555555556,\"#d8576b\"],[0.6666666666666666,\"#ed7953\"],[0.7777777777777778,\"#fb9f3a\"],[0.8888888888888888,\"#fdca26\"],[1.0,\"#f0f921\"]]}],\"heatmap\":[{\"type\":\"heatmap\",\"colorbar\":{\"outlinewidth\":0,\"ticks\":\"\"},\"colorscale\":[[0.0,\"#0d0887\"],[0.1111111111111111,\"#46039f\"],[0.2222222222222222,\"#7201a8\"],[0.3333333333333333,\"#9c179e\"],[0.4444444444444444,\"#bd3786\"],[0.5555555555555556,\"#d8576b\"],[0.6666666666666666,\"#ed7953\"],[0.7777777777777778,\"#fb9f3a\"],[0.8888888888888888,\"#fdca26\"],[1.0,\"#f0f921\"]]}],\"heatmapgl\":[{\"type\":\"heatmapgl\",\"colorbar\":{\"outlinewidth\":0,\"ticks\":\"\"},\"colorscale\":[[0.0,\"#0d0887\"],[0.1111111111111111,\"#46039f\"],[0.2222222222222222,\"#7201a8\"],[0.3333333333333333,\"#9c179e\"],[0.4444444444444444,\"#bd3786\"],[0.5555555555555556,\"#d8576b\"],[0.6666666666666666,\"#ed7953\"],[0.7777777777777778,\"#fb9f3a\"],[0.8888888888888888,\"#fdca26\"],[1.0,\"#f0f921\"]]}],\"contourcarpet\":[{\"type\":\"contourcarpet\",\"colorbar\":{\"outlinewidth\":0,\"ticks\":\"\"}}],\"contour\":[{\"type\":\"contour\",\"colorbar\":{\"outlinewidth\":0,\"ticks\":\"\"},\"colorscale\":[[0.0,\"#0d0887\"],[0.1111111111111111,\"#46039f\"],[0.2222222222222222,\"#7201a8\"],[0.3333333333333333,\"#9c179e\"],[0.4444444444444444,\"#bd3786\"],[0.5555555555555556,\"#d8576b\"],[0.6666666666666666,\"#ed7953\"],[0.7777777777777778,\"#fb9f3a\"],[0.8888888888888888,\"#fdca26\"],[1.0,\"#f0f921\"]]}],\"surface\":[{\"type\":\"surface\",\"colorbar\":{\"outlinewidth\":0,\"ticks\":\"\"},\"colorscale\":[[0.0,\"#0d0887\"],[0.1111111111111111,\"#46039f\"],[0.2222222222222222,\"#7201a8\"],[0.3333333333333333,\"#9c179e\"],[0.4444444444444444,\"#bd3786\"],[0.5555555555555556,\"#d8576b\"],[0.6666666666666666,\"#ed7953\"],[0.7777777777777778,\"#fb9f3a\"],[0.8888888888888888,\"#fdca26\"],[1.0,\"#f0f921\"]]}],\"mesh3d\":[{\"type\":\"mesh3d\",\"colorbar\":{\"outlinewidth\":0,\"ticks\":\"\"}}],\"scatter\":[{\"fillpattern\":{\"fillmode\":\"overlay\",\"size\":10,\"solidity\":0.2},\"type\":\"scatter\"}],\"parcoords\":[{\"type\":\"parcoords\",\"line\":{\"colorbar\":{\"outlinewidth\":0,\"ticks\":\"\"}}}],\"scatterpolargl\":[{\"type\":\"scatterpolargl\",\"marker\":{\"colorbar\":{\"outlinewidth\":0,\"ticks\":\"\"}}}],\"bar\":[{\"error_x\":{\"color\":\"#2a3f5f\"},\"error_y\":{\"color\":\"#2a3f5f\"},\"marker\":{\"line\":{\"color\":\"#E5ECF6\",\"width\":0.5},\"pattern\":{\"fillmode\":\"overlay\",\"size\":10,\"solidity\":0.2}},\"type\":\"bar\"}],\"scattergeo\":[{\"type\":\"scattergeo\",\"marker\":{\"colorbar\":{\"outlinewidth\":0,\"ticks\":\"\"}}}],\"scatterpolar\":[{\"type\":\"scatterpolar\",\"marker\":{\"colorbar\":{\"outlinewidth\":0,\"ticks\":\"\"}}}],\"histogram\":[{\"marker\":{\"pattern\":{\"fillmode\":\"overlay\",\"size\":10,\"solidity\":0.2}},\"type\":\"histogram\"}],\"scattergl\":[{\"type\":\"scattergl\",\"marker\":{\"colorbar\":{\"outlinewidth\":0,\"ticks\":\"\"}}}],\"scatter3d\":[{\"type\":\"scatter3d\",\"line\":{\"colorbar\":{\"outlinewidth\":0,\"ticks\":\"\"}},\"marker\":{\"colorbar\":{\"outlinewidth\":0,\"ticks\":\"\"}}}],\"scattermapbox\":[{\"type\":\"scattermapbox\",\"marker\":{\"colorbar\":{\"outlinewidth\":0,\"ticks\":\"\"}}}],\"scatterternary\":[{\"type\":\"scatterternary\",\"marker\":{\"colorbar\":{\"outlinewidth\":0,\"ticks\":\"\"}}}],\"scattercarpet\":[{\"type\":\"scattercarpet\",\"marker\":{\"colorbar\":{\"outlinewidth\":0,\"ticks\":\"\"}}}],\"carpet\":[{\"aaxis\":{\"endlinecolor\":\"#2a3f5f\",\"gridcolor\":\"white\",\"linecolor\":\"white\",\"minorgridcolor\":\"white\",\"startlinecolor\":\"#2a3f5f\"},\"baxis\":{\"endlinecolor\":\"#2a3f5f\",\"gridcolor\":\"white\",\"linecolor\":\"white\",\"minorgridcolor\":\"white\",\"startlinecolor\":\"#2a3f5f\"},\"type\":\"carpet\"}],\"table\":[{\"cells\":{\"fill\":{\"color\":\"#EBF0F8\"},\"line\":{\"color\":\"white\"}},\"header\":{\"fill\":{\"color\":\"#C8D4E3\"},\"line\":{\"color\":\"white\"}},\"type\":\"table\"}],\"barpolar\":[{\"marker\":{\"line\":{\"color\":\"#E5ECF6\",\"width\":0.5},\"pattern\":{\"fillmode\":\"overlay\",\"size\":10,\"solidity\":0.2}},\"type\":\"barpolar\"}],\"pie\":[{\"automargin\":true,\"type\":\"pie\"}]},\"layout\":{\"autotypenumbers\":\"strict\",\"colorway\":[\"#636efa\",\"#EF553B\",\"#00cc96\",\"#ab63fa\",\"#FFA15A\",\"#19d3f3\",\"#FF6692\",\"#B6E880\",\"#FF97FF\",\"#FECB52\"],\"font\":{\"color\":\"#2a3f5f\"},\"hovermode\":\"closest\",\"hoverlabel\":{\"align\":\"left\"},\"paper_bgcolor\":\"white\",\"plot_bgcolor\":\"#E5ECF6\",\"polar\":{\"bgcolor\":\"#E5ECF6\",\"angularaxis\":{\"gridcolor\":\"white\",\"linecolor\":\"white\",\"ticks\":\"\"},\"radialaxis\":{\"gridcolor\":\"white\",\"linecolor\":\"white\",\"ticks\":\"\"}},\"ternary\":{\"bgcolor\":\"#E5ECF6\",\"aaxis\":{\"gridcolor\":\"white\",\"linecolor\":\"white\",\"ticks\":\"\"},\"baxis\":{\"gridcolor\":\"white\",\"linecolor\":\"white\",\"ticks\":\"\"},\"caxis\":{\"gridcolor\":\"white\",\"linecolor\":\"white\",\"ticks\":\"\"}},\"coloraxis\":{\"colorbar\":{\"outlinewidth\":0,\"ticks\":\"\"}},\"colorscale\":{\"sequential\":[[0.0,\"#0d0887\"],[0.1111111111111111,\"#46039f\"],[0.2222222222222222,\"#7201a8\"],[0.3333333333333333,\"#9c179e\"],[0.4444444444444444,\"#bd3786\"],[0.5555555555555556,\"#d8576b\"],[0.6666666666666666,\"#ed7953\"],[0.7777777777777778,\"#fb9f3a\"],[0.8888888888888888,\"#fdca26\"],[1.0,\"#f0f921\"]],\"sequentialminus\":[[0.0,\"#0d0887\"],[0.1111111111111111,\"#46039f\"],[0.2222222222222222,\"#7201a8\"],[0.3333333333333333,\"#9c179e\"],[0.4444444444444444,\"#bd3786\"],[0.5555555555555556,\"#d8576b\"],[0.6666666666666666,\"#ed7953\"],[0.7777777777777778,\"#fb9f3a\"],[0.8888888888888888,\"#fdca26\"],[1.0,\"#f0f921\"]],\"diverging\":[[0,\"#8e0152\"],[0.1,\"#c51b7d\"],[0.2,\"#de77ae\"],[0.3,\"#f1b6da\"],[0.4,\"#fde0ef\"],[0.5,\"#f7f7f7\"],[0.6,\"#e6f5d0\"],[0.7,\"#b8e186\"],[0.8,\"#7fbc41\"],[0.9,\"#4d9221\"],[1,\"#276419\"]]},\"xaxis\":{\"gridcolor\":\"white\",\"linecolor\":\"white\",\"ticks\":\"\",\"title\":{\"standoff\":15},\"zerolinecolor\":\"white\",\"automargin\":true,\"zerolinewidth\":2},\"yaxis\":{\"gridcolor\":\"white\",\"linecolor\":\"white\",\"ticks\":\"\",\"title\":{\"standoff\":15},\"zerolinecolor\":\"white\",\"automargin\":true,\"zerolinewidth\":2},\"scene\":{\"xaxis\":{\"backgroundcolor\":\"#E5ECF6\",\"gridcolor\":\"white\",\"linecolor\":\"white\",\"showbackground\":true,\"ticks\":\"\",\"zerolinecolor\":\"white\",\"gridwidth\":2},\"yaxis\":{\"backgroundcolor\":\"#E5ECF6\",\"gridcolor\":\"white\",\"linecolor\":\"white\",\"showbackground\":true,\"ticks\":\"\",\"zerolinecolor\":\"white\",\"gridwidth\":2},\"zaxis\":{\"backgroundcolor\":\"#E5ECF6\",\"gridcolor\":\"white\",\"linecolor\":\"white\",\"showbackground\":true,\"ticks\":\"\",\"zerolinecolor\":\"white\",\"gridwidth\":2}},\"shapedefaults\":{\"line\":{\"color\":\"#2a3f5f\"}},\"annotationdefaults\":{\"arrowcolor\":\"#2a3f5f\",\"arrowhead\":0,\"arrowwidth\":1},\"geo\":{\"bgcolor\":\"white\",\"landcolor\":\"#E5ECF6\",\"subunitcolor\":\"white\",\"showland\":true,\"showlakes\":true,\"lakecolor\":\"white\"},\"title\":{\"x\":0.05},\"mapbox\":{\"style\":\"light\"}}},\"polar\":{\"domain\":{\"x\":[0.0,1.0],\"y\":[0.0,1.0]},\"angularaxis\":{\"direction\":\"clockwise\",\"rotation\":90,\"categoryorder\":\"array\",\"categoryarray\":[\" K.G.F: Chapter 2 (2022)\",\"Kantara (2022)\",\"K.G.F (2018)\",\"777 Charlie (2022)\",\" Kurukshetra (2019)\",\"James (I) (2022)\",\" Raajakumara (2017)\",\"Vikrant Rona (2022)\",\"Avane Srimannarayana (2019)\",\"Roberrt (2021)\",\"The Villain (I) (2018)\",\"Yajamana (2019)\",\"Pailwaan (2019)\",\"Mr. And Mrs. Ramchari (2014)\",\" Anjaniputra (2017)\",\" Mungaru Male (2006)\"]},\"radialaxis\":{\"type\":\"log\"}},\"legend\":{\"title\":{\"text\":\"theta\"},\"tracegroupgap\":0},\"title\":{\"text\":\"\\u0c95\\u0ca8\\u0ccd\\u0ca8\\u0ca1 \\u0c9a\\u0cbf\\u0ca4\\u0ccd\\u0cb0\\u0c97\\u0cb3\\u0cc1 2006-2022 \\u0c97\\u0cb3\\u0cbf\\u0c95\\u0cc6 (\\u0c95\\u0ccb\\u0c9f\\u0cbf\\u0caf\\u0cb2\\u0ccd\\u0cb2\\u0cbf)\"},\"barmode\":\"relative\"},                        {\"responsive\": true}                    ).then(function(){\n",
       "                            \n",
       "var gd = document.getElementById('1d94d4f9-df8f-447e-b54d-77a332af5020');\n",
       "var x = new MutationObserver(function (mutations, observer) {{\n",
       "        var display = window.getComputedStyle(gd).display;\n",
       "        if (!display || display === 'none') {{\n",
       "            console.log([gd, 'removed!']);\n",
       "            Plotly.purge(gd);\n",
       "            observer.disconnect();\n",
       "        }}\n",
       "}});\n",
       "\n",
       "// Listen for the removal of the full notebook cells\n",
       "var notebookContainer = gd.closest('#notebook-container');\n",
       "if (notebookContainer) {{\n",
       "    x.observe(notebookContainer, {childList: true});\n",
       "}}\n",
       "\n",
       "// Listen for the clearing of the current output cell\n",
       "var outputEl = gd.closest('.output');\n",
       "if (outputEl) {{\n",
       "    x.observe(outputEl, {childList: true});\n",
       "}}\n",
       "\n",
       "                        })                };                });            </script>        </div>"
      ]
     },
     "metadata": {},
     "output_type": "display_data"
    }
   ],
   "source": [
    "#Improved Radar plot\n",
    "#For a filled line in a Radar Chart, update the figure created with px.line_polar with fig.update_traces.\n",
    "import plotly.express as px\n",
    "import pandas as pd\n",
    "\n",
    "\n",
    "df = pd.DataFrame(dict(\n",
    "    \n",
    "    r = [1228.3,275.2,226.1,100.5,90,79.5,71,70.3,56.5,54.7,52.5,52,49.5,47.5,45.5,45],\n",
    "    theta = [' K.G.F: Chapter 2 (2022)','Kantara (2022)','K.G.F (2018)','777 Charlie (2022)',' Kurukshetra (2019)',\n",
    "     'James (I) (2022)',' Raajakumara (2017)','Vikrant Rona (2022)','Avane Srimannarayana (2019)',\n",
    "     'Roberrt (2021)','The Villain (I) (2018)','Yajamana (2019)','Pailwaan (2019)',\n",
    "     'Mr. And Mrs. Ramchari (2014)',' Anjaniputra (2017)', ' Mungaru Male (2006)']))\n",
    "          \n",
    "\n",
    "\n",
    "#log_x=True gets all values however small into the chart!!\n",
    "fig = px.bar_polar(df, r= 'r', theta='theta', color='theta',log_r=True,\n",
    "                   color_discrete_sequence= px.colors.sequential.Plasma_r,title=\"ಕನ್ನಡ ಚಿತ್ರಗಳು 2006-2022 ಗಳಿಕೆ (ಕೋಟಿಯಲ್ಲಿ)\")\n",
    "#fig.update_traces(fill='toself')\n",
    "fig.show()\n",
    "#px.colors.sequential.Sunsetdark_r\n",
    "#sequential.Plasma_r\n",
    "#RdBu\n",
    "#Magma\n",
    "#Plotly3\n",
    "#Electric\n",
    "#Blues\n",
    "#BuPu"
   ]
  },
  {
   "cell_type": "code",
   "execution_count": null,
   "id": "00237033",
   "metadata": {},
   "outputs": [],
   "source": []
  },
  {
   "cell_type": "code",
   "execution_count": 4,
   "id": "a4c2945f",
   "metadata": {},
   "outputs": [
    {
     "data": {
      "application/vnd.plotly.v1+json": {
       "config": {
        "plotlyServerURL": "https://plot.ly"
       },
       "data": [
        {
         "hovertemplate": "theta=%{theta}<br>r=%{r}<extra></extra>",
         "legendgroup": "Kantara (2022)",
         "marker": {
          "color": "#f0f921",
          "pattern": {
           "shape": ""
          }
         },
         "name": "Kantara (2022)",
         "r": [
          275.2
         ],
         "showlegend": true,
         "subplot": "polar",
         "theta": [
          "Kantara (2022)"
         ],
         "type": "barpolar"
        },
        {
         "hovertemplate": "theta=%{theta}<br>r=%{r}<extra></extra>",
         "legendgroup": "K.G.F (2018)",
         "marker": {
          "color": "#fdca26",
          "pattern": {
           "shape": ""
          }
         },
         "name": "K.G.F (2018)",
         "r": [
          226.1
         ],
         "showlegend": true,
         "subplot": "polar",
         "theta": [
          "K.G.F (2018)"
         ],
         "type": "barpolar"
        },
        {
         "hovertemplate": "theta=%{theta}<br>r=%{r}<extra></extra>",
         "legendgroup": "777 Charlie (2022)",
         "marker": {
          "color": "#fb9f3a",
          "pattern": {
           "shape": ""
          }
         },
         "name": "777 Charlie (2022)",
         "r": [
          100.5
         ],
         "showlegend": true,
         "subplot": "polar",
         "theta": [
          "777 Charlie (2022)"
         ],
         "type": "barpolar"
        },
        {
         "hovertemplate": "theta=%{theta}<br>r=%{r}<extra></extra>",
         "legendgroup": " Kurukshetra (2019)",
         "marker": {
          "color": "#ed7953",
          "pattern": {
           "shape": ""
          }
         },
         "name": " Kurukshetra (2019)",
         "r": [
          90
         ],
         "showlegend": true,
         "subplot": "polar",
         "theta": [
          " Kurukshetra (2019)"
         ],
         "type": "barpolar"
        },
        {
         "hovertemplate": "theta=%{theta}<br>r=%{r}<extra></extra>",
         "legendgroup": "James (I) (2022)",
         "marker": {
          "color": "#d8576b",
          "pattern": {
           "shape": ""
          }
         },
         "name": "James (I) (2022)",
         "r": [
          79.5
         ],
         "showlegend": true,
         "subplot": "polar",
         "theta": [
          "James (I) (2022)"
         ],
         "type": "barpolar"
        },
        {
         "hovertemplate": "theta=%{theta}<br>r=%{r}<extra></extra>",
         "legendgroup": " Raajakumara (2017)",
         "marker": {
          "color": "#bd3786",
          "pattern": {
           "shape": ""
          }
         },
         "name": " Raajakumara (2017)",
         "r": [
          71
         ],
         "showlegend": true,
         "subplot": "polar",
         "theta": [
          " Raajakumara (2017)"
         ],
         "type": "barpolar"
        },
        {
         "hovertemplate": "theta=%{theta}<br>r=%{r}<extra></extra>",
         "legendgroup": "Vikrant Rona (2022)",
         "marker": {
          "color": "#9c179e",
          "pattern": {
           "shape": ""
          }
         },
         "name": "Vikrant Rona (2022)",
         "r": [
          70.3
         ],
         "showlegend": true,
         "subplot": "polar",
         "theta": [
          "Vikrant Rona (2022)"
         ],
         "type": "barpolar"
        },
        {
         "hovertemplate": "theta=%{theta}<br>r=%{r}<extra></extra>",
         "legendgroup": "Avane Srimannarayana (2019)",
         "marker": {
          "color": "#7201a8",
          "pattern": {
           "shape": ""
          }
         },
         "name": "Avane Srimannarayana (2019)",
         "r": [
          56.5
         ],
         "showlegend": true,
         "subplot": "polar",
         "theta": [
          "Avane Srimannarayana (2019)"
         ],
         "type": "barpolar"
        },
        {
         "hovertemplate": "theta=%{theta}<br>r=%{r}<extra></extra>",
         "legendgroup": "Roberrt (2021)",
         "marker": {
          "color": "#46039f",
          "pattern": {
           "shape": ""
          }
         },
         "name": "Roberrt (2021)",
         "r": [
          54.7
         ],
         "showlegend": true,
         "subplot": "polar",
         "theta": [
          "Roberrt (2021)"
         ],
         "type": "barpolar"
        },
        {
         "hovertemplate": "theta=%{theta}<br>r=%{r}<extra></extra>",
         "legendgroup": "The Villain (I) (2018)",
         "marker": {
          "color": "#0d0887",
          "pattern": {
           "shape": ""
          }
         },
         "name": "The Villain (I) (2018)",
         "r": [
          52.5
         ],
         "showlegend": true,
         "subplot": "polar",
         "theta": [
          "The Villain (I) (2018)"
         ],
         "type": "barpolar"
        },
        {
         "hovertemplate": "theta=%{theta}<br>r=%{r}<extra></extra>",
         "legendgroup": "Yajamana (2019)",
         "marker": {
          "color": "#f0f921",
          "pattern": {
           "shape": ""
          }
         },
         "name": "Yajamana (2019)",
         "r": [
          52
         ],
         "showlegend": true,
         "subplot": "polar",
         "theta": [
          "Yajamana (2019)"
         ],
         "type": "barpolar"
        },
        {
         "hovertemplate": "theta=%{theta}<br>r=%{r}<extra></extra>",
         "legendgroup": "Pailwaan (2019)",
         "marker": {
          "color": "#fdca26",
          "pattern": {
           "shape": ""
          }
         },
         "name": "Pailwaan (2019)",
         "r": [
          49.5
         ],
         "showlegend": true,
         "subplot": "polar",
         "theta": [
          "Pailwaan (2019)"
         ],
         "type": "barpolar"
        },
        {
         "hovertemplate": "theta=%{theta}<br>r=%{r}<extra></extra>",
         "legendgroup": "Mr. And Mrs. Ramchari (2014)",
         "marker": {
          "color": "#fb9f3a",
          "pattern": {
           "shape": ""
          }
         },
         "name": "Mr. And Mrs. Ramchari (2014)",
         "r": [
          47.5
         ],
         "showlegend": true,
         "subplot": "polar",
         "theta": [
          "Mr. And Mrs. Ramchari (2014)"
         ],
         "type": "barpolar"
        },
        {
         "hovertemplate": "theta=%{theta}<br>r=%{r}<extra></extra>",
         "legendgroup": " Anjaniputra (2017)",
         "marker": {
          "color": "#ed7953",
          "pattern": {
           "shape": ""
          }
         },
         "name": " Anjaniputra (2017)",
         "r": [
          45.5
         ],
         "showlegend": true,
         "subplot": "polar",
         "theta": [
          " Anjaniputra (2017)"
         ],
         "type": "barpolar"
        },
        {
         "hovertemplate": "theta=%{theta}<br>r=%{r}<extra></extra>",
         "legendgroup": " Mungaru Male (2006)",
         "marker": {
          "color": "#d8576b",
          "pattern": {
           "shape": ""
          }
         },
         "name": " Mungaru Male (2006)",
         "r": [
          45
         ],
         "showlegend": true,
         "subplot": "polar",
         "theta": [
          " Mungaru Male (2006)"
         ],
         "type": "barpolar"
        }
       ],
       "layout": {
        "barmode": "relative",
        "legend": {
         "title": {
          "text": "theta"
         },
         "tracegroupgap": 0
        },
        "polar": {
         "angularaxis": {
          "categoryarray": [
           "Kantara (2022)",
           "K.G.F (2018)",
           "777 Charlie (2022)",
           " Kurukshetra (2019)",
           "James (I) (2022)",
           " Raajakumara (2017)",
           "Vikrant Rona (2022)",
           "Avane Srimannarayana (2019)",
           "Roberrt (2021)",
           "The Villain (I) (2018)",
           "Yajamana (2019)",
           "Pailwaan (2019)",
           "Mr. And Mrs. Ramchari (2014)",
           " Anjaniputra (2017)",
           " Mungaru Male (2006)"
          ],
          "categoryorder": "array",
          "direction": "clockwise",
          "rotation": 90
         },
         "domain": {
          "x": [
           0,
           1
          ],
          "y": [
           0,
           1
          ]
         },
         "radialaxis": {
          "type": "log"
         }
        },
        "template": {
         "data": {
          "bar": [
           {
            "error_x": {
             "color": "#2a3f5f"
            },
            "error_y": {
             "color": "#2a3f5f"
            },
            "marker": {
             "line": {
              "color": "#E5ECF6",
              "width": 0.5
             },
             "pattern": {
              "fillmode": "overlay",
              "size": 10,
              "solidity": 0.2
             }
            },
            "type": "bar"
           }
          ],
          "barpolar": [
           {
            "marker": {
             "line": {
              "color": "#E5ECF6",
              "width": 0.5
             },
             "pattern": {
              "fillmode": "overlay",
              "size": 10,
              "solidity": 0.2
             }
            },
            "type": "barpolar"
           }
          ],
          "carpet": [
           {
            "aaxis": {
             "endlinecolor": "#2a3f5f",
             "gridcolor": "white",
             "linecolor": "white",
             "minorgridcolor": "white",
             "startlinecolor": "#2a3f5f"
            },
            "baxis": {
             "endlinecolor": "#2a3f5f",
             "gridcolor": "white",
             "linecolor": "white",
             "minorgridcolor": "white",
             "startlinecolor": "#2a3f5f"
            },
            "type": "carpet"
           }
          ],
          "choropleth": [
           {
            "colorbar": {
             "outlinewidth": 0,
             "ticks": ""
            },
            "type": "choropleth"
           }
          ],
          "contour": [
           {
            "colorbar": {
             "outlinewidth": 0,
             "ticks": ""
            },
            "colorscale": [
             [
              0,
              "#0d0887"
             ],
             [
              0.1111111111111111,
              "#46039f"
             ],
             [
              0.2222222222222222,
              "#7201a8"
             ],
             [
              0.3333333333333333,
              "#9c179e"
             ],
             [
              0.4444444444444444,
              "#bd3786"
             ],
             [
              0.5555555555555556,
              "#d8576b"
             ],
             [
              0.6666666666666666,
              "#ed7953"
             ],
             [
              0.7777777777777778,
              "#fb9f3a"
             ],
             [
              0.8888888888888888,
              "#fdca26"
             ],
             [
              1,
              "#f0f921"
             ]
            ],
            "type": "contour"
           }
          ],
          "contourcarpet": [
           {
            "colorbar": {
             "outlinewidth": 0,
             "ticks": ""
            },
            "type": "contourcarpet"
           }
          ],
          "heatmap": [
           {
            "colorbar": {
             "outlinewidth": 0,
             "ticks": ""
            },
            "colorscale": [
             [
              0,
              "#0d0887"
             ],
             [
              0.1111111111111111,
              "#46039f"
             ],
             [
              0.2222222222222222,
              "#7201a8"
             ],
             [
              0.3333333333333333,
              "#9c179e"
             ],
             [
              0.4444444444444444,
              "#bd3786"
             ],
             [
              0.5555555555555556,
              "#d8576b"
             ],
             [
              0.6666666666666666,
              "#ed7953"
             ],
             [
              0.7777777777777778,
              "#fb9f3a"
             ],
             [
              0.8888888888888888,
              "#fdca26"
             ],
             [
              1,
              "#f0f921"
             ]
            ],
            "type": "heatmap"
           }
          ],
          "heatmapgl": [
           {
            "colorbar": {
             "outlinewidth": 0,
             "ticks": ""
            },
            "colorscale": [
             [
              0,
              "#0d0887"
             ],
             [
              0.1111111111111111,
              "#46039f"
             ],
             [
              0.2222222222222222,
              "#7201a8"
             ],
             [
              0.3333333333333333,
              "#9c179e"
             ],
             [
              0.4444444444444444,
              "#bd3786"
             ],
             [
              0.5555555555555556,
              "#d8576b"
             ],
             [
              0.6666666666666666,
              "#ed7953"
             ],
             [
              0.7777777777777778,
              "#fb9f3a"
             ],
             [
              0.8888888888888888,
              "#fdca26"
             ],
             [
              1,
              "#f0f921"
             ]
            ],
            "type": "heatmapgl"
           }
          ],
          "histogram": [
           {
            "marker": {
             "pattern": {
              "fillmode": "overlay",
              "size": 10,
              "solidity": 0.2
             }
            },
            "type": "histogram"
           }
          ],
          "histogram2d": [
           {
            "colorbar": {
             "outlinewidth": 0,
             "ticks": ""
            },
            "colorscale": [
             [
              0,
              "#0d0887"
             ],
             [
              0.1111111111111111,
              "#46039f"
             ],
             [
              0.2222222222222222,
              "#7201a8"
             ],
             [
              0.3333333333333333,
              "#9c179e"
             ],
             [
              0.4444444444444444,
              "#bd3786"
             ],
             [
              0.5555555555555556,
              "#d8576b"
             ],
             [
              0.6666666666666666,
              "#ed7953"
             ],
             [
              0.7777777777777778,
              "#fb9f3a"
             ],
             [
              0.8888888888888888,
              "#fdca26"
             ],
             [
              1,
              "#f0f921"
             ]
            ],
            "type": "histogram2d"
           }
          ],
          "histogram2dcontour": [
           {
            "colorbar": {
             "outlinewidth": 0,
             "ticks": ""
            },
            "colorscale": [
             [
              0,
              "#0d0887"
             ],
             [
              0.1111111111111111,
              "#46039f"
             ],
             [
              0.2222222222222222,
              "#7201a8"
             ],
             [
              0.3333333333333333,
              "#9c179e"
             ],
             [
              0.4444444444444444,
              "#bd3786"
             ],
             [
              0.5555555555555556,
              "#d8576b"
             ],
             [
              0.6666666666666666,
              "#ed7953"
             ],
             [
              0.7777777777777778,
              "#fb9f3a"
             ],
             [
              0.8888888888888888,
              "#fdca26"
             ],
             [
              1,
              "#f0f921"
             ]
            ],
            "type": "histogram2dcontour"
           }
          ],
          "mesh3d": [
           {
            "colorbar": {
             "outlinewidth": 0,
             "ticks": ""
            },
            "type": "mesh3d"
           }
          ],
          "parcoords": [
           {
            "line": {
             "colorbar": {
              "outlinewidth": 0,
              "ticks": ""
             }
            },
            "type": "parcoords"
           }
          ],
          "pie": [
           {
            "automargin": true,
            "type": "pie"
           }
          ],
          "scatter": [
           {
            "fillpattern": {
             "fillmode": "overlay",
             "size": 10,
             "solidity": 0.2
            },
            "type": "scatter"
           }
          ],
          "scatter3d": [
           {
            "line": {
             "colorbar": {
              "outlinewidth": 0,
              "ticks": ""
             }
            },
            "marker": {
             "colorbar": {
              "outlinewidth": 0,
              "ticks": ""
             }
            },
            "type": "scatter3d"
           }
          ],
          "scattercarpet": [
           {
            "marker": {
             "colorbar": {
              "outlinewidth": 0,
              "ticks": ""
             }
            },
            "type": "scattercarpet"
           }
          ],
          "scattergeo": [
           {
            "marker": {
             "colorbar": {
              "outlinewidth": 0,
              "ticks": ""
             }
            },
            "type": "scattergeo"
           }
          ],
          "scattergl": [
           {
            "marker": {
             "colorbar": {
              "outlinewidth": 0,
              "ticks": ""
             }
            },
            "type": "scattergl"
           }
          ],
          "scattermapbox": [
           {
            "marker": {
             "colorbar": {
              "outlinewidth": 0,
              "ticks": ""
             }
            },
            "type": "scattermapbox"
           }
          ],
          "scatterpolar": [
           {
            "marker": {
             "colorbar": {
              "outlinewidth": 0,
              "ticks": ""
             }
            },
            "type": "scatterpolar"
           }
          ],
          "scatterpolargl": [
           {
            "marker": {
             "colorbar": {
              "outlinewidth": 0,
              "ticks": ""
             }
            },
            "type": "scatterpolargl"
           }
          ],
          "scatterternary": [
           {
            "marker": {
             "colorbar": {
              "outlinewidth": 0,
              "ticks": ""
             }
            },
            "type": "scatterternary"
           }
          ],
          "surface": [
           {
            "colorbar": {
             "outlinewidth": 0,
             "ticks": ""
            },
            "colorscale": [
             [
              0,
              "#0d0887"
             ],
             [
              0.1111111111111111,
              "#46039f"
             ],
             [
              0.2222222222222222,
              "#7201a8"
             ],
             [
              0.3333333333333333,
              "#9c179e"
             ],
             [
              0.4444444444444444,
              "#bd3786"
             ],
             [
              0.5555555555555556,
              "#d8576b"
             ],
             [
              0.6666666666666666,
              "#ed7953"
             ],
             [
              0.7777777777777778,
              "#fb9f3a"
             ],
             [
              0.8888888888888888,
              "#fdca26"
             ],
             [
              1,
              "#f0f921"
             ]
            ],
            "type": "surface"
           }
          ],
          "table": [
           {
            "cells": {
             "fill": {
              "color": "#EBF0F8"
             },
             "line": {
              "color": "white"
             }
            },
            "header": {
             "fill": {
              "color": "#C8D4E3"
             },
             "line": {
              "color": "white"
             }
            },
            "type": "table"
           }
          ]
         },
         "layout": {
          "annotationdefaults": {
           "arrowcolor": "#2a3f5f",
           "arrowhead": 0,
           "arrowwidth": 1
          },
          "autotypenumbers": "strict",
          "coloraxis": {
           "colorbar": {
            "outlinewidth": 0,
            "ticks": ""
           }
          },
          "colorscale": {
           "diverging": [
            [
             0,
             "#8e0152"
            ],
            [
             0.1,
             "#c51b7d"
            ],
            [
             0.2,
             "#de77ae"
            ],
            [
             0.3,
             "#f1b6da"
            ],
            [
             0.4,
             "#fde0ef"
            ],
            [
             0.5,
             "#f7f7f7"
            ],
            [
             0.6,
             "#e6f5d0"
            ],
            [
             0.7,
             "#b8e186"
            ],
            [
             0.8,
             "#7fbc41"
            ],
            [
             0.9,
             "#4d9221"
            ],
            [
             1,
             "#276419"
            ]
           ],
           "sequential": [
            [
             0,
             "#0d0887"
            ],
            [
             0.1111111111111111,
             "#46039f"
            ],
            [
             0.2222222222222222,
             "#7201a8"
            ],
            [
             0.3333333333333333,
             "#9c179e"
            ],
            [
             0.4444444444444444,
             "#bd3786"
            ],
            [
             0.5555555555555556,
             "#d8576b"
            ],
            [
             0.6666666666666666,
             "#ed7953"
            ],
            [
             0.7777777777777778,
             "#fb9f3a"
            ],
            [
             0.8888888888888888,
             "#fdca26"
            ],
            [
             1,
             "#f0f921"
            ]
           ],
           "sequentialminus": [
            [
             0,
             "#0d0887"
            ],
            [
             0.1111111111111111,
             "#46039f"
            ],
            [
             0.2222222222222222,
             "#7201a8"
            ],
            [
             0.3333333333333333,
             "#9c179e"
            ],
            [
             0.4444444444444444,
             "#bd3786"
            ],
            [
             0.5555555555555556,
             "#d8576b"
            ],
            [
             0.6666666666666666,
             "#ed7953"
            ],
            [
             0.7777777777777778,
             "#fb9f3a"
            ],
            [
             0.8888888888888888,
             "#fdca26"
            ],
            [
             1,
             "#f0f921"
            ]
           ]
          },
          "colorway": [
           "#636efa",
           "#EF553B",
           "#00cc96",
           "#ab63fa",
           "#FFA15A",
           "#19d3f3",
           "#FF6692",
           "#B6E880",
           "#FF97FF",
           "#FECB52"
          ],
          "font": {
           "color": "#2a3f5f"
          },
          "geo": {
           "bgcolor": "white",
           "lakecolor": "white",
           "landcolor": "#E5ECF6",
           "showlakes": true,
           "showland": true,
           "subunitcolor": "white"
          },
          "hoverlabel": {
           "align": "left"
          },
          "hovermode": "closest",
          "mapbox": {
           "style": "light"
          },
          "paper_bgcolor": "white",
          "plot_bgcolor": "#E5ECF6",
          "polar": {
           "angularaxis": {
            "gridcolor": "white",
            "linecolor": "white",
            "ticks": ""
           },
           "bgcolor": "#E5ECF6",
           "radialaxis": {
            "gridcolor": "white",
            "linecolor": "white",
            "ticks": ""
           }
          },
          "scene": {
           "xaxis": {
            "backgroundcolor": "#E5ECF6",
            "gridcolor": "white",
            "gridwidth": 2,
            "linecolor": "white",
            "showbackground": true,
            "ticks": "",
            "zerolinecolor": "white"
           },
           "yaxis": {
            "backgroundcolor": "#E5ECF6",
            "gridcolor": "white",
            "gridwidth": 2,
            "linecolor": "white",
            "showbackground": true,
            "ticks": "",
            "zerolinecolor": "white"
           },
           "zaxis": {
            "backgroundcolor": "#E5ECF6",
            "gridcolor": "white",
            "gridwidth": 2,
            "linecolor": "white",
            "showbackground": true,
            "ticks": "",
            "zerolinecolor": "white"
           }
          },
          "shapedefaults": {
           "line": {
            "color": "#2a3f5f"
           }
          },
          "ternary": {
           "aaxis": {
            "gridcolor": "white",
            "linecolor": "white",
            "ticks": ""
           },
           "baxis": {
            "gridcolor": "white",
            "linecolor": "white",
            "ticks": ""
           },
           "bgcolor": "#E5ECF6",
           "caxis": {
            "gridcolor": "white",
            "linecolor": "white",
            "ticks": ""
           }
          },
          "title": {
           "x": 0.05
          },
          "xaxis": {
           "automargin": true,
           "gridcolor": "white",
           "linecolor": "white",
           "ticks": "",
           "title": {
            "standoff": 15
           },
           "zerolinecolor": "white",
           "zerolinewidth": 2
          },
          "yaxis": {
           "automargin": true,
           "gridcolor": "white",
           "linecolor": "white",
           "ticks": "",
           "title": {
            "standoff": 15
           },
           "zerolinecolor": "white",
           "zerolinewidth": 2
          }
         }
        },
        "title": {
         "text": "ಕನ್ನಡ ಚಿತ್ರಗಳು 2006-2022 ಗಳಿಕೆ (ಕೋಟಿಯಲ್ಲಿ)"
        }
       }
      },
      "text/html": [
       "<div>                            <div id=\"39ba5326-ea46-49fd-8270-41d4d396a75d\" class=\"plotly-graph-div\" style=\"height:525px; width:100%;\"></div>            <script type=\"text/javascript\">                require([\"plotly\"], function(Plotly) {                    window.PLOTLYENV=window.PLOTLYENV || {};                                    if (document.getElementById(\"39ba5326-ea46-49fd-8270-41d4d396a75d\")) {                    Plotly.newPlot(                        \"39ba5326-ea46-49fd-8270-41d4d396a75d\",                        [{\"hovertemplate\":\"theta=%{theta}<br>r=%{r}<extra></extra>\",\"legendgroup\":\"Kantara (2022)\",\"marker\":{\"color\":\"#f0f921\",\"pattern\":{\"shape\":\"\"}},\"name\":\"Kantara (2022)\",\"r\":[275.2],\"showlegend\":true,\"subplot\":\"polar\",\"theta\":[\"Kantara (2022)\"],\"type\":\"barpolar\"},{\"hovertemplate\":\"theta=%{theta}<br>r=%{r}<extra></extra>\",\"legendgroup\":\"K.G.F (2018)\",\"marker\":{\"color\":\"#fdca26\",\"pattern\":{\"shape\":\"\"}},\"name\":\"K.G.F (2018)\",\"r\":[226.1],\"showlegend\":true,\"subplot\":\"polar\",\"theta\":[\"K.G.F (2018)\"],\"type\":\"barpolar\"},{\"hovertemplate\":\"theta=%{theta}<br>r=%{r}<extra></extra>\",\"legendgroup\":\"777 Charlie (2022)\",\"marker\":{\"color\":\"#fb9f3a\",\"pattern\":{\"shape\":\"\"}},\"name\":\"777 Charlie (2022)\",\"r\":[100.5],\"showlegend\":true,\"subplot\":\"polar\",\"theta\":[\"777 Charlie (2022)\"],\"type\":\"barpolar\"},{\"hovertemplate\":\"theta=%{theta}<br>r=%{r}<extra></extra>\",\"legendgroup\":\" Kurukshetra (2019)\",\"marker\":{\"color\":\"#ed7953\",\"pattern\":{\"shape\":\"\"}},\"name\":\" Kurukshetra (2019)\",\"r\":[90.0],\"showlegend\":true,\"subplot\":\"polar\",\"theta\":[\" Kurukshetra (2019)\"],\"type\":\"barpolar\"},{\"hovertemplate\":\"theta=%{theta}<br>r=%{r}<extra></extra>\",\"legendgroup\":\"James (I) (2022)\",\"marker\":{\"color\":\"#d8576b\",\"pattern\":{\"shape\":\"\"}},\"name\":\"James (I) (2022)\",\"r\":[79.5],\"showlegend\":true,\"subplot\":\"polar\",\"theta\":[\"James (I) (2022)\"],\"type\":\"barpolar\"},{\"hovertemplate\":\"theta=%{theta}<br>r=%{r}<extra></extra>\",\"legendgroup\":\" Raajakumara (2017)\",\"marker\":{\"color\":\"#bd3786\",\"pattern\":{\"shape\":\"\"}},\"name\":\" Raajakumara (2017)\",\"r\":[71.0],\"showlegend\":true,\"subplot\":\"polar\",\"theta\":[\" Raajakumara (2017)\"],\"type\":\"barpolar\"},{\"hovertemplate\":\"theta=%{theta}<br>r=%{r}<extra></extra>\",\"legendgroup\":\"Vikrant Rona (2022)\",\"marker\":{\"color\":\"#9c179e\",\"pattern\":{\"shape\":\"\"}},\"name\":\"Vikrant Rona (2022)\",\"r\":[70.3],\"showlegend\":true,\"subplot\":\"polar\",\"theta\":[\"Vikrant Rona (2022)\"],\"type\":\"barpolar\"},{\"hovertemplate\":\"theta=%{theta}<br>r=%{r}<extra></extra>\",\"legendgroup\":\"Avane Srimannarayana (2019)\",\"marker\":{\"color\":\"#7201a8\",\"pattern\":{\"shape\":\"\"}},\"name\":\"Avane Srimannarayana (2019)\",\"r\":[56.5],\"showlegend\":true,\"subplot\":\"polar\",\"theta\":[\"Avane Srimannarayana (2019)\"],\"type\":\"barpolar\"},{\"hovertemplate\":\"theta=%{theta}<br>r=%{r}<extra></extra>\",\"legendgroup\":\"Roberrt (2021)\",\"marker\":{\"color\":\"#46039f\",\"pattern\":{\"shape\":\"\"}},\"name\":\"Roberrt (2021)\",\"r\":[54.7],\"showlegend\":true,\"subplot\":\"polar\",\"theta\":[\"Roberrt (2021)\"],\"type\":\"barpolar\"},{\"hovertemplate\":\"theta=%{theta}<br>r=%{r}<extra></extra>\",\"legendgroup\":\"The Villain (I) (2018)\",\"marker\":{\"color\":\"#0d0887\",\"pattern\":{\"shape\":\"\"}},\"name\":\"The Villain (I) (2018)\",\"r\":[52.5],\"showlegend\":true,\"subplot\":\"polar\",\"theta\":[\"The Villain (I) (2018)\"],\"type\":\"barpolar\"},{\"hovertemplate\":\"theta=%{theta}<br>r=%{r}<extra></extra>\",\"legendgroup\":\"Yajamana (2019)\",\"marker\":{\"color\":\"#f0f921\",\"pattern\":{\"shape\":\"\"}},\"name\":\"Yajamana (2019)\",\"r\":[52.0],\"showlegend\":true,\"subplot\":\"polar\",\"theta\":[\"Yajamana (2019)\"],\"type\":\"barpolar\"},{\"hovertemplate\":\"theta=%{theta}<br>r=%{r}<extra></extra>\",\"legendgroup\":\"Pailwaan (2019)\",\"marker\":{\"color\":\"#fdca26\",\"pattern\":{\"shape\":\"\"}},\"name\":\"Pailwaan (2019)\",\"r\":[49.5],\"showlegend\":true,\"subplot\":\"polar\",\"theta\":[\"Pailwaan (2019)\"],\"type\":\"barpolar\"},{\"hovertemplate\":\"theta=%{theta}<br>r=%{r}<extra></extra>\",\"legendgroup\":\"Mr. And Mrs. Ramchari (2014)\",\"marker\":{\"color\":\"#fb9f3a\",\"pattern\":{\"shape\":\"\"}},\"name\":\"Mr. And Mrs. Ramchari (2014)\",\"r\":[47.5],\"showlegend\":true,\"subplot\":\"polar\",\"theta\":[\"Mr. And Mrs. Ramchari (2014)\"],\"type\":\"barpolar\"},{\"hovertemplate\":\"theta=%{theta}<br>r=%{r}<extra></extra>\",\"legendgroup\":\" Anjaniputra (2017)\",\"marker\":{\"color\":\"#ed7953\",\"pattern\":{\"shape\":\"\"}},\"name\":\" Anjaniputra (2017)\",\"r\":[45.5],\"showlegend\":true,\"subplot\":\"polar\",\"theta\":[\" Anjaniputra (2017)\"],\"type\":\"barpolar\"},{\"hovertemplate\":\"theta=%{theta}<br>r=%{r}<extra></extra>\",\"legendgroup\":\" Mungaru Male (2006)\",\"marker\":{\"color\":\"#d8576b\",\"pattern\":{\"shape\":\"\"}},\"name\":\" Mungaru Male (2006)\",\"r\":[45.0],\"showlegend\":true,\"subplot\":\"polar\",\"theta\":[\" Mungaru Male (2006)\"],\"type\":\"barpolar\"}],                        {\"template\":{\"data\":{\"histogram2dcontour\":[{\"type\":\"histogram2dcontour\",\"colorbar\":{\"outlinewidth\":0,\"ticks\":\"\"},\"colorscale\":[[0.0,\"#0d0887\"],[0.1111111111111111,\"#46039f\"],[0.2222222222222222,\"#7201a8\"],[0.3333333333333333,\"#9c179e\"],[0.4444444444444444,\"#bd3786\"],[0.5555555555555556,\"#d8576b\"],[0.6666666666666666,\"#ed7953\"],[0.7777777777777778,\"#fb9f3a\"],[0.8888888888888888,\"#fdca26\"],[1.0,\"#f0f921\"]]}],\"choropleth\":[{\"type\":\"choropleth\",\"colorbar\":{\"outlinewidth\":0,\"ticks\":\"\"}}],\"histogram2d\":[{\"type\":\"histogram2d\",\"colorbar\":{\"outlinewidth\":0,\"ticks\":\"\"},\"colorscale\":[[0.0,\"#0d0887\"],[0.1111111111111111,\"#46039f\"],[0.2222222222222222,\"#7201a8\"],[0.3333333333333333,\"#9c179e\"],[0.4444444444444444,\"#bd3786\"],[0.5555555555555556,\"#d8576b\"],[0.6666666666666666,\"#ed7953\"],[0.7777777777777778,\"#fb9f3a\"],[0.8888888888888888,\"#fdca26\"],[1.0,\"#f0f921\"]]}],\"heatmap\":[{\"type\":\"heatmap\",\"colorbar\":{\"outlinewidth\":0,\"ticks\":\"\"},\"colorscale\":[[0.0,\"#0d0887\"],[0.1111111111111111,\"#46039f\"],[0.2222222222222222,\"#7201a8\"],[0.3333333333333333,\"#9c179e\"],[0.4444444444444444,\"#bd3786\"],[0.5555555555555556,\"#d8576b\"],[0.6666666666666666,\"#ed7953\"],[0.7777777777777778,\"#fb9f3a\"],[0.8888888888888888,\"#fdca26\"],[1.0,\"#f0f921\"]]}],\"heatmapgl\":[{\"type\":\"heatmapgl\",\"colorbar\":{\"outlinewidth\":0,\"ticks\":\"\"},\"colorscale\":[[0.0,\"#0d0887\"],[0.1111111111111111,\"#46039f\"],[0.2222222222222222,\"#7201a8\"],[0.3333333333333333,\"#9c179e\"],[0.4444444444444444,\"#bd3786\"],[0.5555555555555556,\"#d8576b\"],[0.6666666666666666,\"#ed7953\"],[0.7777777777777778,\"#fb9f3a\"],[0.8888888888888888,\"#fdca26\"],[1.0,\"#f0f921\"]]}],\"contourcarpet\":[{\"type\":\"contourcarpet\",\"colorbar\":{\"outlinewidth\":0,\"ticks\":\"\"}}],\"contour\":[{\"type\":\"contour\",\"colorbar\":{\"outlinewidth\":0,\"ticks\":\"\"},\"colorscale\":[[0.0,\"#0d0887\"],[0.1111111111111111,\"#46039f\"],[0.2222222222222222,\"#7201a8\"],[0.3333333333333333,\"#9c179e\"],[0.4444444444444444,\"#bd3786\"],[0.5555555555555556,\"#d8576b\"],[0.6666666666666666,\"#ed7953\"],[0.7777777777777778,\"#fb9f3a\"],[0.8888888888888888,\"#fdca26\"],[1.0,\"#f0f921\"]]}],\"surface\":[{\"type\":\"surface\",\"colorbar\":{\"outlinewidth\":0,\"ticks\":\"\"},\"colorscale\":[[0.0,\"#0d0887\"],[0.1111111111111111,\"#46039f\"],[0.2222222222222222,\"#7201a8\"],[0.3333333333333333,\"#9c179e\"],[0.4444444444444444,\"#bd3786\"],[0.5555555555555556,\"#d8576b\"],[0.6666666666666666,\"#ed7953\"],[0.7777777777777778,\"#fb9f3a\"],[0.8888888888888888,\"#fdca26\"],[1.0,\"#f0f921\"]]}],\"mesh3d\":[{\"type\":\"mesh3d\",\"colorbar\":{\"outlinewidth\":0,\"ticks\":\"\"}}],\"scatter\":[{\"fillpattern\":{\"fillmode\":\"overlay\",\"size\":10,\"solidity\":0.2},\"type\":\"scatter\"}],\"parcoords\":[{\"type\":\"parcoords\",\"line\":{\"colorbar\":{\"outlinewidth\":0,\"ticks\":\"\"}}}],\"scatterpolargl\":[{\"type\":\"scatterpolargl\",\"marker\":{\"colorbar\":{\"outlinewidth\":0,\"ticks\":\"\"}}}],\"bar\":[{\"error_x\":{\"color\":\"#2a3f5f\"},\"error_y\":{\"color\":\"#2a3f5f\"},\"marker\":{\"line\":{\"color\":\"#E5ECF6\",\"width\":0.5},\"pattern\":{\"fillmode\":\"overlay\",\"size\":10,\"solidity\":0.2}},\"type\":\"bar\"}],\"scattergeo\":[{\"type\":\"scattergeo\",\"marker\":{\"colorbar\":{\"outlinewidth\":0,\"ticks\":\"\"}}}],\"scatterpolar\":[{\"type\":\"scatterpolar\",\"marker\":{\"colorbar\":{\"outlinewidth\":0,\"ticks\":\"\"}}}],\"histogram\":[{\"marker\":{\"pattern\":{\"fillmode\":\"overlay\",\"size\":10,\"solidity\":0.2}},\"type\":\"histogram\"}],\"scattergl\":[{\"type\":\"scattergl\",\"marker\":{\"colorbar\":{\"outlinewidth\":0,\"ticks\":\"\"}}}],\"scatter3d\":[{\"type\":\"scatter3d\",\"line\":{\"colorbar\":{\"outlinewidth\":0,\"ticks\":\"\"}},\"marker\":{\"colorbar\":{\"outlinewidth\":0,\"ticks\":\"\"}}}],\"scattermapbox\":[{\"type\":\"scattermapbox\",\"marker\":{\"colorbar\":{\"outlinewidth\":0,\"ticks\":\"\"}}}],\"scatterternary\":[{\"type\":\"scatterternary\",\"marker\":{\"colorbar\":{\"outlinewidth\":0,\"ticks\":\"\"}}}],\"scattercarpet\":[{\"type\":\"scattercarpet\",\"marker\":{\"colorbar\":{\"outlinewidth\":0,\"ticks\":\"\"}}}],\"carpet\":[{\"aaxis\":{\"endlinecolor\":\"#2a3f5f\",\"gridcolor\":\"white\",\"linecolor\":\"white\",\"minorgridcolor\":\"white\",\"startlinecolor\":\"#2a3f5f\"},\"baxis\":{\"endlinecolor\":\"#2a3f5f\",\"gridcolor\":\"white\",\"linecolor\":\"white\",\"minorgridcolor\":\"white\",\"startlinecolor\":\"#2a3f5f\"},\"type\":\"carpet\"}],\"table\":[{\"cells\":{\"fill\":{\"color\":\"#EBF0F8\"},\"line\":{\"color\":\"white\"}},\"header\":{\"fill\":{\"color\":\"#C8D4E3\"},\"line\":{\"color\":\"white\"}},\"type\":\"table\"}],\"barpolar\":[{\"marker\":{\"line\":{\"color\":\"#E5ECF6\",\"width\":0.5},\"pattern\":{\"fillmode\":\"overlay\",\"size\":10,\"solidity\":0.2}},\"type\":\"barpolar\"}],\"pie\":[{\"automargin\":true,\"type\":\"pie\"}]},\"layout\":{\"autotypenumbers\":\"strict\",\"colorway\":[\"#636efa\",\"#EF553B\",\"#00cc96\",\"#ab63fa\",\"#FFA15A\",\"#19d3f3\",\"#FF6692\",\"#B6E880\",\"#FF97FF\",\"#FECB52\"],\"font\":{\"color\":\"#2a3f5f\"},\"hovermode\":\"closest\",\"hoverlabel\":{\"align\":\"left\"},\"paper_bgcolor\":\"white\",\"plot_bgcolor\":\"#E5ECF6\",\"polar\":{\"bgcolor\":\"#E5ECF6\",\"angularaxis\":{\"gridcolor\":\"white\",\"linecolor\":\"white\",\"ticks\":\"\"},\"radialaxis\":{\"gridcolor\":\"white\",\"linecolor\":\"white\",\"ticks\":\"\"}},\"ternary\":{\"bgcolor\":\"#E5ECF6\",\"aaxis\":{\"gridcolor\":\"white\",\"linecolor\":\"white\",\"ticks\":\"\"},\"baxis\":{\"gridcolor\":\"white\",\"linecolor\":\"white\",\"ticks\":\"\"},\"caxis\":{\"gridcolor\":\"white\",\"linecolor\":\"white\",\"ticks\":\"\"}},\"coloraxis\":{\"colorbar\":{\"outlinewidth\":0,\"ticks\":\"\"}},\"colorscale\":{\"sequential\":[[0.0,\"#0d0887\"],[0.1111111111111111,\"#46039f\"],[0.2222222222222222,\"#7201a8\"],[0.3333333333333333,\"#9c179e\"],[0.4444444444444444,\"#bd3786\"],[0.5555555555555556,\"#d8576b\"],[0.6666666666666666,\"#ed7953\"],[0.7777777777777778,\"#fb9f3a\"],[0.8888888888888888,\"#fdca26\"],[1.0,\"#f0f921\"]],\"sequentialminus\":[[0.0,\"#0d0887\"],[0.1111111111111111,\"#46039f\"],[0.2222222222222222,\"#7201a8\"],[0.3333333333333333,\"#9c179e\"],[0.4444444444444444,\"#bd3786\"],[0.5555555555555556,\"#d8576b\"],[0.6666666666666666,\"#ed7953\"],[0.7777777777777778,\"#fb9f3a\"],[0.8888888888888888,\"#fdca26\"],[1.0,\"#f0f921\"]],\"diverging\":[[0,\"#8e0152\"],[0.1,\"#c51b7d\"],[0.2,\"#de77ae\"],[0.3,\"#f1b6da\"],[0.4,\"#fde0ef\"],[0.5,\"#f7f7f7\"],[0.6,\"#e6f5d0\"],[0.7,\"#b8e186\"],[0.8,\"#7fbc41\"],[0.9,\"#4d9221\"],[1,\"#276419\"]]},\"xaxis\":{\"gridcolor\":\"white\",\"linecolor\":\"white\",\"ticks\":\"\",\"title\":{\"standoff\":15},\"zerolinecolor\":\"white\",\"automargin\":true,\"zerolinewidth\":2},\"yaxis\":{\"gridcolor\":\"white\",\"linecolor\":\"white\",\"ticks\":\"\",\"title\":{\"standoff\":15},\"zerolinecolor\":\"white\",\"automargin\":true,\"zerolinewidth\":2},\"scene\":{\"xaxis\":{\"backgroundcolor\":\"#E5ECF6\",\"gridcolor\":\"white\",\"linecolor\":\"white\",\"showbackground\":true,\"ticks\":\"\",\"zerolinecolor\":\"white\",\"gridwidth\":2},\"yaxis\":{\"backgroundcolor\":\"#E5ECF6\",\"gridcolor\":\"white\",\"linecolor\":\"white\",\"showbackground\":true,\"ticks\":\"\",\"zerolinecolor\":\"white\",\"gridwidth\":2},\"zaxis\":{\"backgroundcolor\":\"#E5ECF6\",\"gridcolor\":\"white\",\"linecolor\":\"white\",\"showbackground\":true,\"ticks\":\"\",\"zerolinecolor\":\"white\",\"gridwidth\":2}},\"shapedefaults\":{\"line\":{\"color\":\"#2a3f5f\"}},\"annotationdefaults\":{\"arrowcolor\":\"#2a3f5f\",\"arrowhead\":0,\"arrowwidth\":1},\"geo\":{\"bgcolor\":\"white\",\"landcolor\":\"#E5ECF6\",\"subunitcolor\":\"white\",\"showland\":true,\"showlakes\":true,\"lakecolor\":\"white\"},\"title\":{\"x\":0.05},\"mapbox\":{\"style\":\"light\"}}},\"polar\":{\"domain\":{\"x\":[0.0,1.0],\"y\":[0.0,1.0]},\"angularaxis\":{\"direction\":\"clockwise\",\"rotation\":90,\"categoryorder\":\"array\",\"categoryarray\":[\"Kantara (2022)\",\"K.G.F (2018)\",\"777 Charlie (2022)\",\" Kurukshetra (2019)\",\"James (I) (2022)\",\" Raajakumara (2017)\",\"Vikrant Rona (2022)\",\"Avane Srimannarayana (2019)\",\"Roberrt (2021)\",\"The Villain (I) (2018)\",\"Yajamana (2019)\",\"Pailwaan (2019)\",\"Mr. And Mrs. Ramchari (2014)\",\" Anjaniputra (2017)\",\" Mungaru Male (2006)\"]},\"radialaxis\":{\"type\":\"log\"}},\"legend\":{\"title\":{\"text\":\"theta\"},\"tracegroupgap\":0},\"title\":{\"text\":\"\\u0c95\\u0ca8\\u0ccd\\u0ca8\\u0ca1 \\u0c9a\\u0cbf\\u0ca4\\u0ccd\\u0cb0\\u0c97\\u0cb3\\u0cc1 2006-2022 \\u0c97\\u0cb3\\u0cbf\\u0c95\\u0cc6 (\\u0c95\\u0ccb\\u0c9f\\u0cbf\\u0caf\\u0cb2\\u0ccd\\u0cb2\\u0cbf)\"},\"barmode\":\"relative\"},                        {\"responsive\": true}                    ).then(function(){\n",
       "                            \n",
       "var gd = document.getElementById('39ba5326-ea46-49fd-8270-41d4d396a75d');\n",
       "var x = new MutationObserver(function (mutations, observer) {{\n",
       "        var display = window.getComputedStyle(gd).display;\n",
       "        if (!display || display === 'none') {{\n",
       "            console.log([gd, 'removed!']);\n",
       "            Plotly.purge(gd);\n",
       "            observer.disconnect();\n",
       "        }}\n",
       "}});\n",
       "\n",
       "// Listen for the removal of the full notebook cells\n",
       "var notebookContainer = gd.closest('#notebook-container');\n",
       "if (notebookContainer) {{\n",
       "    x.observe(notebookContainer, {childList: true});\n",
       "}}\n",
       "\n",
       "// Listen for the clearing of the current output cell\n",
       "var outputEl = gd.closest('.output');\n",
       "if (outputEl) {{\n",
       "    x.observe(outputEl, {childList: true});\n",
       "}}\n",
       "\n",
       "                        })                };                });            </script>        </div>"
      ]
     },
     "metadata": {},
     "output_type": "display_data"
    }
   ],
   "source": [
    "#Improved Radar plot\n",
    "#For a filled line in a Radar Chart, update the figure created with px.line_polar with fig.update_traces.\n",
    "import plotly.express as px\n",
    "import pandas as pd\n",
    "\n",
    "#Data from https://www.imdb.com/list/ls063689880/\n",
    "df = pd.DataFrame(dict(\n",
    "    \n",
    "    r = [275.2,226.1,100.5,90,79.5,71,70.3,56.5,54.7,52.5,52,49.5,47.5,45.5,45],\n",
    "    theta = ['Kantara (2022)','K.G.F (2018)','777 Charlie (2022)',' Kurukshetra (2019)',\n",
    "     'James (I) (2022)',' Raajakumara (2017)','Vikrant Rona (2022)','Avane Srimannarayana (2019)',\n",
    "     'Roberrt (2021)','The Villain (I) (2018)','Yajamana (2019)','Pailwaan (2019)',\n",
    "     'Mr. And Mrs. Ramchari (2014)',' Anjaniputra (2017)', ' Mungaru Male (2006)']))\n",
    "          \n",
    "\n",
    "#log_x=True gets all values however small into the chart!!\n",
    "fig = px.bar_polar(df, r= 'r', theta='theta', color='theta',log_r=True,\n",
    "                   color_discrete_sequence= px.colors.sequential.Plasma_r,title=\"ಕನ್ನಡ ಚಿತ್ರಗಳು 2006-2022 ಗಳಿಕೆ (ಕೋಟಿಯಲ್ಲಿ)\")\n",
    "#fig.update_traces(fill='toself')\n",
    "fig.show()\n",
    "#px.colors.sequential.Sunsetdark_r\n",
    "#sequential.Plasma_r\n",
    "#RdBu\n",
    "#Magma\n",
    "#Plotly3\n",
    "#Electric\n",
    "#Blues\n",
    "#BuPu"
   ]
  },
  {
   "cell_type": "code",
   "execution_count": null,
   "id": "f88be087",
   "metadata": {},
   "outputs": [],
   "source": []
  }
 ],
 "metadata": {
  "kernelspec": {
   "display_name": "Python 3",
   "language": "python",
   "name": "python3"
  },
  "language_info": {
   "codemirror_mode": {
    "name": "ipython",
    "version": 3
   },
   "file_extension": ".py",
   "mimetype": "text/x-python",
   "name": "python",
   "nbconvert_exporter": "python",
   "pygments_lexer": "ipython3",
   "version": "3.7.6"
  },
  "toc": {
   "base_numbering": 1,
   "nav_menu": {},
   "number_sections": true,
   "sideBar": true,
   "skip_h1_title": false,
   "title_cell": "Table of Contents",
   "title_sidebar": "Contents",
   "toc_cell": false,
   "toc_position": {},
   "toc_section_display": true,
   "toc_window_display": false
  }
 },
 "nbformat": 4,
 "nbformat_minor": 5
}
